{
 "cells": [
  {
   "cell_type": "code",
   "execution_count": 1,
   "metadata": {},
   "outputs": [],
   "source": [
    "from selenium import webdriver\n",
    "from bs4 import BeautifulSoup\n",
    "from selenium.webdriver.common.by import By\n",
    "from selenium.webdriver.common.keys import Keys"
   ]
  },
  {
   "attachments": {},
   "cell_type": "markdown",
   "metadata": {},
   "source": [
    "# Khởi động driver chorm và get url"
   ]
  },
  {
   "cell_type": "code",
   "execution_count": 2,
   "metadata": {},
   "outputs": [
    {
     "name": "stderr",
     "output_type": "stream",
     "text": [
      "C:\\Users\\DELL\\AppData\\Local\\Temp\\ipykernel_1716\\372970283.py:1: DeprecationWarning: executable_path has been deprecated, please pass in a Service object\n",
      "  driver = webdriver.Chrome(\"C:\\chromedriver_win32\\chromedriver.exe\")\n"
     ]
    }
   ],
   "source": [
    "driver = webdriver.Chrome(\"C:\\chromedriver_win32\\chromedriver.exe\")\n",
    "driver.maximize_window()\n",
    "url = 'https://tiki.vn/dien-thoai-may-tinh-bang/c1789'\n",
    "driver.implicitly_wait(30)\n",
    "driver.get(url)"
   ]
  },
  {
   "attachments": {},
   "cell_type": "markdown",
   "metadata": {},
   "source": [
    "# Lấy Link của các sản phẩm page 1"
   ]
  },
  {
   "cell_type": "code",
   "execution_count": 3,
   "metadata": {},
   "outputs": [
    {
     "data": {
      "text/plain": [
       "40"
      ]
     },
     "execution_count": 3,
     "metadata": {},
     "output_type": "execute_result"
    }
   ],
   "source": [
    "page_source = BeautifulSoup(driver.page_source)\n",
    "product_item =  page_source.find_all('a', class_='product-item')\n",
    "links = [link.get('href') for link in product_item]\n",
    "len(links)"
   ]
  },
  {
   "attachments": {},
   "cell_type": "markdown",
   "metadata": {},
   "source": [
    "# Lấy tên sản phẩm"
   ]
  },
  {
   "cell_type": "code",
   "execution_count": 4,
   "metadata": {},
   "outputs": [
    {
     "data": {
      "text/plain": [
       "40"
      ]
     },
     "execution_count": 4,
     "metadata": {},
     "output_type": "execute_result"
    }
   ],
   "source": [
    "name_products= page_source.find_all('div', class_='name')\n",
    "name_products = [name.text for name in name_products]\n",
    "len(name_products)"
   ]
  },
  {
   "attachments": {},
   "cell_type": "markdown",
   "metadata": {},
   "source": [
    "# Lấy giá bán sản phẩm"
   ]
  },
  {
   "cell_type": "code",
   "execution_count": 5,
   "metadata": {},
   "outputs": [
    {
     "data": {
      "text/plain": [
       "40"
      ]
     },
     "execution_count": 5,
     "metadata": {},
     "output_type": "execute_result"
    }
   ],
   "source": [
    "price_products = page_source.find_all('div', class_='price-discount__price')\n",
    "price_products = [price.text for price in price_products]\n",
    "len(price_products)"
   ]
  },
  {
   "attachments": {},
   "cell_type": "markdown",
   "metadata": {},
   "source": [
    "# Lấy sao đánh giá và số lượng bán ra sản phẩm"
   ]
  },
  {
   "cell_type": "code",
   "execution_count": 6,
   "metadata": {},
   "outputs": [
    {
     "name": "stdout",
     "output_type": "stream",
     "text": [
      "40\n",
      "40\n"
     ]
    }
   ],
   "source": [
    "info = page_source.find_all('div', 'info')\n",
    "rate_products = []\n",
    "sold_out = []\n",
    "for inf in info:\n",
    "    if inf.find(class_='total') == None:\n",
    "        rate_products.append(0)\n",
    "    else: rate_products.append(inf.find(class_='total').text)\n",
    "    \n",
    "    if inf.find(class_='styles__StyledQtySold-sc-732h27-2 fCfYNm') == None:\n",
    "        sold_out.append(0)\n",
    "    else: sold_out.append(inf.find(class_='styles__StyledQtySold-sc-732h27-2 fCfYNm').text)\n",
    "\n",
    "print(len(rate_products))\n",
    "print(len(sold_out))"
   ]
  },
  {
   "attachments": {},
   "cell_type": "markdown",
   "metadata": {},
   "source": [
    "# Lấy comment của mỗi sản phẩm"
   ]
  },
  {
   "cell_type": "code",
   "execution_count": 7,
   "metadata": {},
   "outputs": [],
   "source": [
    "for i in range(len(links)):\n",
    "    # tiền xử lý link\n",
    "    if links[i][:2] == '//':\n",
    "        links[i] = 'https:' + links[i]\n",
    "    else: links[i] = 'https://tiki.vn' + links[i]"
   ]
  },
  {
   "cell_type": "code",
   "execution_count": 8,
   "metadata": {},
   "outputs": [
    {
     "data": {
      "text/plain": [
       "['https://tka.tiki.vn/pixel/pixel?data=ZiBvMHw7suHlHbPaTWMdTKO59zeZNXGt2V1M0-JeaIUZ_VxhpJaDRhpHkmHSPCH6NGGgV0TNJumHP6Uhm5sCdj16sxeH4XtfxJJ6WP3nV_3GD4qghM6bbX2V9Qzow2N0KPokgTsOHs7t-506-Fz088VJsLZHpjMQAxtnkfu2Z_BUSz-gf5Nga-dW10AfXTAZg1hKnVHAdcH4_Jh8ROCQhzqX5_eheDa3WxiPl1ZzBR7HZJtJVovsTfjnTB-_IRf1bma6QVW18Fl6RDyU5lKF6hub1RhZBg2VTHHCtUKXDiEmbFi6VKZUxTO1IpwfiK3sKVKx_XDIKY2V3FF83hgVp8bGO4evAQOCeYa9eGkOROc2luRnPra9y54jdNruAS-uTpY1huxRbMqjPouYTDuWtzgeiHsSGP5LI8iZJM3vEHtN-fLGej_bNqa5gHh1bR6MuJSITV7rJcweM0bmRSFw8hM3lH2tVyU66IIWSLQkxb5bShx431DRSRxlgbykWA1zveRL0_QcWB1TzQkKU8k0smlIfL-uSKv2_sbpvEP70V9WufacemltmSg1J3kxs5U2w2-IGmMm22-cAUVXakJ4C_lox7ShUnCNeh_ixRnr_lheM8k5xTc2wtO_hC3eY3b19XNHNSMHmWNmq-wwgC2067YPp1ogxyDkHFsRYnmN_dpKRH5WpNyZWxwtHRB7absjj5zcB28ImVoQPBfGiL8llJal-fu66i2B2zGI82J6wGzbSL9EUjbRnNWvOw2ENkAqjnf2qDoi4Nzc2bxo5kM29ndlAy11jLkD2JTVfQxNB_hltdD-dzlE1IIAKL5lGpWTaVzSOTyS8ouGO3dAd0zcIjqg682HUCEC7-U2bMM1d-iGkDe9PgJcrZ6Xq7emCbD9q4AxdodPo0RMmQEHQ5vlCM2coLsn5fwVNXecfJpM1roCShx8tf08VPqg0pHcCVcVVRkTOZu03GsHbik_fh2F_wvAKNbxo2kjDOiF3hI2nPiPldlXESJ3eSu-P9Sg8TAWTTjE_npUooCrEqSaOyGiS0Ey0rL6_kgAZTBIZV1ajbOcVCNFViFaQUrxfkoLfLH4AFLa11CitJmVzB36ZlP5OlOR_-O9Vd4jOP92xGyageBzlmypgbXeCwoGHn0dw9CeCMFtRhdj8h0N-0f66BuhyStUohvLQJJhewxsWt3VQVJJbMskGk0yDpGmAOzBcGYPJHZ0RyUIU3wgnMNtp474PvP3uobFAGJpUs1_SRS_m-R03ysNjXZD3DsNC2sNjHXfB2CIS_07DoggELTYvbU5E008Lth3EQ09CcVeB3zE3ZDy3x-KqdjxYmbX_andqeIuXDFAeyOWS8D_KHj8qaj9mfsegJy679NaqwIZzZEZiLT_J24A1y-F5ocWRqQRpsGvAwu6OJcIZNXLDHbm0i0iseWNMmTa1yRgMBf-0MXcSoxiU53eyZBAcsYaw7DwYZJVPJ5GNimc0xudYih2IopSJjzNY4sGEDQOMBWrqMjsoTeMGsd9aQaG2D0IykqAgyKmwLdIZEwOEGxLVDqDZbF3qaDYBg03tiIKRve1aXVqPoAoDu93fnKZFXdPIj2tXG9LSFF436SRHdoVVMCFYX9vtyAUn6xNjdDoQ1PjS-XMBeFFIN2HbM-C2r1dJIw2srFHg9kdNb2raXtbWsBqM7x87Aj97a7K&pos=1&reqid=1zYW4Z4ydR9E6l3n&type=CLICK',\n",
       " 'https://tka.tiki.vn/pixel/pixel?data=klFiAfGyHr5-EEDLseQd0rjjSyjOLLEBp-XRY7_cuPXeECvn4n83CMSVDm3pQtOC_3Pyo2wVQiDurbeUTFJI49w42HUdaYHKcbk9WzBaGZ5ntn6eCi9DLGIjFWat3fPrAiZvq2rUIwSdNj_FXpm9Wzn1o3Nmtw0xRhtxr1zI3TrBBj8T1VgvspmSlVIrU5wvgnBAi9r7-nefBKc5IhuM4WKFp6mzS7COLbxoPnoEXCPdYlUyAU9g_gC8Bj1NB0r8buDEE7u29t-PNHLv2756oc1MHAhHmI4W7ENz1s6O80ikNb6hk20qp6MrHglZZY5AIYJZKHFQdLo5YtufK9xd8rr8TsxwXxT2WckTsT9gWfYlBlKfqnSTM6j3IdbHGW9oYhAJZpFLn7BYF9wfQxig_7QDIdWfErsip7YwxdxXrJJfh3GzPruK69qhRKv06EO1y0ggn0Q4EY2kZ_WRC9UH66xPte9S4jC-9VX_wp7Olco0QaidlyEuJpGvFp7z23CNErwMjd07AXa1-SqNToThQ57-hUy8vlaX2DXzALnI1SDYh3M60-m_K_e7dAeKVZy5J-cXUNWI6luzedC1yTxIJWWBuIejU7LibDe5YDSZ761o0wz_s0Do55GJFiEZ3PVSXwyT-QqPFmsIZ7jYvTbO732DdUb_G0sZXp5ceQJ4DJpfOjtJYhaNcmVuMI1Vx-fNX-AuCrJ2BBUbL04pAjQ1hDMQVN_U_PAZIqcqtGIGsIL37jEDRKjTBAkU8NTDK_O8EME3P_ZYHA7rBtsyztjCJbrlPrhZeoZFFPWv-NRTm0hMW8ZfNsPizhdYME-MhYrlAdqj02cHZvzeRogtEqrHkT_MUH7aYb1ioB9J4fa2wmkwx9YZ9c_cuZU7oqy96arRNkAn0kFyfAe3o4Lgdxd5aoQbtSxniC-h--Z4u9JqIIBnd9T3bejjb_IYQkKyg9w87T4yLnWOOlHLJ9wYvuw5yIXm_Jf3Ic0RCZArM_BLMWJ4Y6rsh94yYlijkB_0yd3sLt_F0pDLL8sw79rRtUt2HLhjnSdqd-vvLQ-NXPZiu0dl0PNfJRRDdkk_aYrQQ86Uj2LyhtozbDKAXBRmJ_wxHGYul0xkfZ49ITYOA9SRCBVvXRKsL610xEmCOCVfhZG_LlVsGkqAUQ9n0yFc-jXoK5YtR46KsBKMoJft9slCsAtbUxPfwCUcDACoiUpfu94oFSyQZrMxtGhZRlhvMWXowa-9HXgLwG8aGO1JvE2p9D7A97AFUHeym8dEtUFhV9lkYRyyMDAc6Nmvh1p8TypsM5deR3OQsKpJa7fpzgUqCeq7mNChMkGLN_uIZN8pUuuNcdedYlDc4E_PN-mItqaxji3ySIHxnA7L9IM9cUmFjw8kUplUi12jXFAHZ84YRyfYALYix56UwQlP0P88JdRDtjbuvnwitG43Uc1GdtXT3czsoMQYupUDWz3ECdw7pz1xausUUsjT_xVZ7Sngbw30wRGBSqTo2CGhwaH6iPHc0zXiVSahpSGrawSeLorQCr06PPgjAFSsJRXGV5-R52RDAB7h4qwHBNiWRq8DVrvOtU7ZQOVhkWXPRSBErG_Ndqdw-PW6MjP-o-dISN_FsFGq0Cf1wwOtlkEyIEfBTWHvCXv-4hfnecpmKK89DdbImCORn2RzPCeF4LbLBqr2wD1PkNXy5gmCgk8ZrIzG-lIOMx-43Y-ndRlETH3PBfv9pKNqh7JzhfpZ&pos=2&reqid=1zYW4Z4ydR9E6l3n&type=CLICK',\n",
       " 'https://tka.tiki.vn/pixel/pixel?data=lZ744cU_CFmvZWmQRPHOxm0kZoywnjbYGMj7Ur5Pv0RFQDRso9hgqw4XiekFp3-KO2rek2ZHtRwuItIjBccjbrriGD62hv8KIB0wjONOv_Y1EuSiUtCl6BVUolJkb-SfXsZZJOsA5leXPyb9jd0eUdaL9NPh7q_ny9oMdimYr0ZKtFN0VxGCkeRMwmNjoj45rXIpDUyEBhan7PfdfEsvQLSwWUGUEkX6f9f6Tv-dffW0MlrFCe9pEgRI_Hsq98jMXeNfydNtpIGAuRYUhl_vL3voWEhrm8LVlHABDXsUaEtLA6twQ6F5fJkWbOVtJd03NnW7r7uTKF0WAkF7TzKjhdz0ummisVnTViGkVWhWIn60XLNs9--z5GJLu06GoifLgz3U0wJr3KllKFXQYiwLGpQymx9oviHB0JLMznOKDMFsm-SrYgYYaa97kmWhmPM_OaDg3Bu3Y-WYmVcxu11DXG29H1gp4wXtjtA3IgcbhxtRlRCXXRSerKDgnvenXbvqtEH0LpPLrb2pHb_NI1Tpj1CymYKW1do3z9jYzNkiJ20TzuOgH0udNy_IwOtasR-OunSMROmzDIdrJ3Q8Rq0NrdN7FAhxUnobNJDcIDRnCqptcR8JBo81ITsBJj93SVs6r0cOuy2NEnhPLbEGf2nCjzccJ4r5F5gUM439O5ei43mCL8R3ACCi-rNeSr-1wElx8aC-Xf6Aph-kqojduhWCVbz94UI2S7Q-26FjQfqvl_H2uPKo6RjPo3rZOvlwAiKgf2hqp9XZSYcfmpNdeOx51GzEFXRKaPU3XLYqBA3YjDdqx2XCs0OCkoHRa0YjnNyeqU8zNn7ZDUESMheEwX_8S1b5mAPiOwWzkT7lqI9Zvnt3SI7xaoKj0LBU0-FrPrIkURwuimdLZdy-9OdmNZXZFVcInC0wJ6ZTwlFEXkMDIS-t3pZG7QgbtpUGR_mzuAsQvQCj3vB6miGJM9-7DBVXd3RoPhlV3PLrAFChlg3XB0LDik28acOwBpe8OWxbNCrkIJyFPmQgeiCnoHBUoNt5xKRtapFKhayggz8R1J7jHuPnG0hWwtaaf4gBgo6VQuwd2VbQAMxNzXZtgcVIOx0M9vTclnhggx0rc2ua6_Q3p2f974KZQwH2BxhixUf_TQ4el3RBf8Gk94O_Fi8gDRUPQqK8PmJs6F7LnARBL2HbSRKK9klxWbxKvTYlIv9vz-ML29fhbpaTTkxwtQKWnu1DpA57oQ5TRl5pJuFJAXjZ5pdK5pRs_S_z7mITLLsrKOqjjwjIYyRw2PXRgKh7yydcK-6aEUuNhLwnawxQhQz0hn5Nw9rC_tyII9YnCLSSzl6U3GiJXiCAlcW26wSj8Yu4B3q-sTJPI5rpvpSjD38dZNU7Ac4xLwlek4Y9BS3A5AUPFu1lmNYCEkRhtK11hq_xuceLwNklRYfAzlrpMiTiQ6txoKsAFWsikG9bNlczMyxKIYIP1xVJy0l6v8PzyI5_neuF7q8ugbe_UaHtyYxBCTaiTXfERuZA8iOr6eeGSxEkfzkqeax_pYKnpwht2bbJI_iCMfuUJiCLqlQiDvgfM-VVkZUMgwYPCs5rDgPNR9GfvM9NZOq_psh083EmApkOCZDnvdZ1jUNoQ30WavpIj0U&pos=3&reqid=1zYW4Z4ydR9E6l3n&type=CLICK',\n",
       " 'https://tka.tiki.vn/pixel/pixel?data=WTzUXEScl5I3zdaGiQPBpDhq9Hq91GSgx0ka5ym7700icnVk8_h4buttvOm58CUof6vkyTdQiRT4lCk25p3RC9Azk4Y_CdsU2ycERh0ThTUyccCXuemoDwbN2zn_Xgkb5623qt7Qh2aqc8XQByysx8it0c9SZHIiZsVN4mhrynlNY3ib_hFMUXI8UDeZqmPNv1_cwCnDDd7ZTDgCAcxROdsMT9FgELDeSCe5RTZAZB3QDIoiZomIYplHgUAz98L-7crVnZIVKN6BnPPma8tJgOKIbVsqIdFvj0JF6oN4BHPvlJ3ELPXGLApQbA_fOgTlXJlidnxIL5rU1no6J1boT4lKDhybiNZRy6A77aJsb-TJ7G0adZQfcVV7BNYpmi6jsdNSxcOTm2p3vBN2X6N9IDmVugVc-0y-9JdJCCFyYsoJYQxc3spYjpIuoDWiwIQMaSze1FtgCVVxEUGaRVpRTM9cQw5r7aZVvRLG6wzVjw0D9gnCDq2naPk6E9frT7bQoMmihcAKttvTEBZCXDPZa0bCLTIBsb0hL1pL0ceRWDJqrRjyMCv1NsrCSBu0-y6vLJlpNSNbPhk7cFDHRkWgJ_2oyBM9LV9H4mDxccMKv5Qauxg5-hx-OHOQhS-qYbqu06ZiwSyIOHq4m47k16ZtMFsSurIQB2vYD1VXGWdh8Ok6DDpaF1aWrdqLjfbSy1f3bEgxrIMGEeGwUasJuVdburXRpYGndzae6-7Vpmqd2bJiGHsG81sTdxJP3TE4uf24g8Gqlfi_0bcNK3F5-G7LTlOKcinQB7NeOPaFmOLqNTY_0oD7ldl8nZmWL86wVLRW_gTKmIvh8U64UJOxtMzjyWUNdB2MjqXB9nIEHtAC4fvq9L9CyZEVbyq5n1WmUGLfOwypmDtRIBXCODA61JAP6TYJMTHjIHL9EcFaOEpG3wDIxohufTJ7nl6CTVLNLfjS3B-lSx25_dgPb1BxI5OJ1NenHmRmaiuEt7gcc1Uo2pce0wZp3tGqn0yUR-ReFz7hpSm6DGg0PKA2VgpukIYod51uiRNYJIxdCkxT-RYFXI5H8tNaqQlFRUv3sWeYrZnhrHi1fA78oj9oaf-VpP86FtqBQBPDybjN9yUDF9WIp4NcjECcMOMtRjuCZqWu76DNxIKj8m1EYGz2NNHIsDIT25BYbjnmj0cXt6_hxqSUepRdjkW-yL1AutxdTcZgIdwEC_cl2xqaHuJWiyUILvC7wK3RUSm5Zvk6PbfiSBun7ELXdLc8Bii-J0yKtpoEOZ-Lddi4-WB2ngc0_Vy89317eWYr1PSS-WXxlCIknf7aXBn5idU2U_rQCfRfDUD8r0fcfEkcCGWZ0WFVNwMbzvRx3FlMg1bwHSWMa9YTXyYR61TKxmOWiLsYVlD8v3717cYlMi_z4z6_yw9OXi9XkzPjkguteAhYp9sE5ie2i923JcBkxIV4c7f1VF5XxDuA0yspP8N9PWOb6_m1MMqqvk3MirPGcFy6LIiazc0S5v0kpKab8dAKmdwHgJCWa27EYS2r_X6dPbe3Z8ODZVx2uiPtUF48Igc_E64hisIQ1geFyFS2DgK6gEw3nSVdG9N8AqqjtcArDJI-EdwFenXpllL7DJCTCPwrOVE&pos=4&reqid=1zYW4Z4ydR9E6l3n&type=CLICK',\n",
       " 'https://tka.tiki.vn/pixel/pixel?data=ZOnkMc9EiM-sgtv66tD_K-jcnUT7j1TrgO09oNI7LK824hPLH09R0VrJna9EsUW2TEyCNwibIeVy165SY5eY5JK93v5SN4-LxiXWPFQmG4kp78PT-c_I1DFL4T86BsdNa5NQdiBCPAuPpiP4PxzK1mNA6SboSR8Y5AtFT78ciza7W2VxQwOfHbD1isqTfI3gPecH06Ofri3O4GLPsFjEB9aEM5WGF1fY9M8JQq4_F57XCIq8QMMlogwCnC4dU_Iy1izby33YlAalf1Sqmd5DCOiWCrK9fz86RFYeWA1eGcbTg_uGY9k3nubQhDwmJr9WhhLbEi0a9fo2m68cecRNZesLHKBVJC_giwBS_V-yHr4Fx7hHatnMkeR1c8TCFe1IWwqh6y6EJsP8poNE3hSOyUfNpAGqTGo-DsGxTGWpdfy8e0UH8ifYhYkyCYmIYBk09sZq_7Gbns5BT9ayjLDF0BZ65c3ULnKGOQ1-CugKZPtzvenymvqv_3ARoYLUAodC2yzCvAGBaipM3iiS9yXGmvzW1f6tqoWPCOghotwZnJyItLYgK_7vE9a_NZsjSpX606WQv3HLs1hWfIuCyaSK0Df6tPyOOVk756mI40yb4bC_1AWjDVqcelkAVeZXbJR2wfHS_FLrFtUG4A6G_sq5FJ_rSNzCFE7bUe4bzDz4wNhlnX4V8rzdf6W7es_gber1ViMS7AomIazjcHyR1YNo4r2c1rlTeoHxPMkoV0AODTTrqEGFfa7qR5oRdCIsdkKCLyNc9Ihg-tY9QWZ7J6CP20MxWCZQKkY3HKqYJTg7svtODF7Dug14OxAdaA7Mk_VuR2W_gtcuqnVbDhHe8WC4mgSwmx_v7wr7-lLrQjAz0mIlWIqqdu0L1a0Ce8_V4UptOq9NKo3HENMvny9gH0pD09Fko6bxImihZkzWZ9lJFt04k8G-Tgm80mCXEGoVJtvcjFhx9BDFPgVy7oqcJ4p3PiYLzno7pKLUzVfxu46ESHsT2o_U5uytqFEHGlBi_remxXMqOgPWSYPCxxGUA-T9t_YdHWIuX_XVhz-GGixItH8DRc096u8y35YbflHU2DdGOlULX-drdcBgwKtDtdOIRNhSQVqCE7fJ6PbDEMj0EL2bzwL_LWLGSkK_hIjalWu-bmwJP5x7-qZaksiw3Rk7dSQHNtReDLVibJp9CRAhTW9JHWgeQ_anlpb6lO7DZA4VlkR20_yy_ch6OIc0LHb7e1b0InrQQjmf58BdSiJz2MEZUUIbF_a0Q-9GycGvWfayXDHeuRj-2NhFIFuNDFNqYck5rtTWP9YuhVmnO3vMvlpPKbz5KxphbmwX0yn0mZNiw1CxQnrQH21kbH57d0YkowAjZZFgEjlZApz3_JW9g-6M-KyoI3gBX-769C0OdPuIwk24yx8TtPIrfk82ve-yT6j5PbMLFq2HQ8YGn8S8vVOPEZ8J6CNXQAsMmBr43lOIKdm5H8adtPxUv1INLcmTnpd-dqehBlxiXM0niWfl0Dw1BBngvBIa75TOZjSPuHsPmJMrXfl8821tiFLmWLxZin1_TILAUxLjfuMYXaGXkgoL7UIR4VAm4_4mMRDxZxBMZIOFZU6K40RbdC6ltOTLmvyIv-k&pos=5&reqid=1zYW4Z4ydR9E6l3n&type=CLICK',\n",
       " 'https://tiki.vn/apple-ipad-10-2-inch-9th-gen-wi-fi-2021-p183330021.html?itm_campaign=tiki-reco_UNK_DT_UNK_UNK_tiki-listing_UNK_p-category-mpid-listing-v1_202302280600_MD_batched_PID.124939771&itm_medium=CPC&itm_source=tiki-reco&spid=124939771',\n",
       " 'https://tiki.vn/apple-iphone-14-pro-max-p197216291.html?itm_campaign=tiki-reco_UNK_DT_UNK_UNK_tiki-listing_UNK_p-category-mpid-listing-v1_202302280600_MD_batched_PID.197216306&itm_medium=CPC&itm_source=tiki-reco&spid=197216306',\n",
       " 'https://tiki.vn/apple-iphone-11-p184036446.html?itm_campaign=tiki-reco_UNK_DT_UNK_UNK_tiki-listing_UNK_p-category-mpid-listing-v1_202302280600_MD_batched_PID.32033721&itm_medium=CPC&itm_source=tiki-reco&spid=32033721',\n",
       " 'https://tiki.vn/dien-thoai-xiaomi-redmi-note-11-4gb-128gb-hang-chinh-hang-p160801751.html?itm_campaign=tiki-reco_UNK_DT_UNK_UNK_tiki-listing_UNK_p-category-mpid-listing-v1_202302280600_MD_batched_PID.166542228&itm_medium=CPC&itm_source=tiki-reco&spid=166542228',\n",
       " 'https://tiki.vn/dien-thoai-oppo-reno-7-4g-8gb-128g-hang-chinh-hang-p177343384.html?itm_campaign=tiki-reco_UNK_DT_UNK_UNK_tiki-listing_UNK_p-category-mpid-listing-v1_202302280600_MD_batched_PID.177343388&itm_medium=CPC&itm_source=tiki-reco&spid=177343388',\n",
       " 'https://tiki.vn/dien-thoai-oppo-reno-6-5g-8gb-128g-hang-chinh-hang-p114092342.html?itm_campaign=tiki-reco_UNK_DT_UNK_UNK_tiki-listing_UNK_p-category-mpid-listing-v1_202302280600_MD_batched_PID.114092344&itm_medium=CPC&itm_source=tiki-reco&spid=114092344',\n",
       " 'https://tiki.vn/may-doc-sach-all-new-kindle-paperwhite-5-11th-gen-hang-nhap-khau-p125182567.html?itm_campaign=tiki-reco_UNK_DT_UNK_UNK_tiki-listing_UNK_p-category-mpid-listing-v1_202302280600_MD_batched_PID.217742178&itm_medium=CPC&itm_source=tiki-reco&spid=217742178',\n",
       " 'https://tiki.vn/apple-iphone-14-pro-p197216279.html?itm_campaign=tiki-reco_UNK_DT_UNK_UNK_tiki-listing_UNK_p-category-mpid-listing-v1_202302280600_MD_batched_PID.197216281&itm_medium=CPC&itm_source=tiki-reco&spid=197216281',\n",
       " 'https://tiki.vn/dien-thoai-gaming-tecno-pova-4-pro-8gb-128gb-media-tek-g99-6000-mah-sac-nhanh-45w-hang-chinh-hang-p203764665.html?itm_campaign=tiki-reco_UNK_DT_UNK_UNK_tiki-listing_UNK_p-category-mpid-listing-v1_202302280600_MD_batched_PID.203764669&itm_medium=CPC&itm_source=tiki-reco&spid=203764669',\n",
       " 'https://tiki.vn/dien-thoai-xiaomi-redmi-note-10s-8gb-128gb-hang-chinh-hang-p101615454.html?itm_campaign=tiki-reco_UNK_DT_UNK_UNK_tiki-listing_UNK_p-category-mpid-listing-v1_202302280600_MD_batched_PID.102653831&itm_medium=CPC&itm_source=tiki-reco&spid=102653831',\n",
       " 'https://tka.tiki.vn/pixel/pixel?data=vtAQqqYA8aancb8xHl4vHVRVi5GDfQhSGO7mloems9bK96tmMKCDUrB2sX6VYoRXy5R3Hs966dzzi0Hw4iYgpaFLPbY7wyEEWgX4U2Z_fAwLDNjSv6mMktktoTFJMPkteaCeW9nNCBeQO7vG9I8jukuUaowpQ2sGYFC17r-gRlZPc32_ne8JL2AfRGiR6qPgY0Ot84OJO-6bl3qijq8Mm9pqX6y758Gu661thdJLV2yeCXPILHIb8eEz22k3HHFcZTIaDifK6eoze7hAiSiqz332fIRE0FN6wVqwN2xNry6uvtODIMQmZX1rP7zd_oic5Ya-5uKRS-FGI9QDrHikkANTMGNBsgZ4mtmdxxbtS38JuHrzLhFGljNxLepm0IZE7Jw3ca4bOoEU7vggMBkc_0NQwxfkL_hoLqBClSGq-rdDrJKXxoJQTp7ZnJq8o1jBlI3zQ3fKfUsPK8dV7sNksl5kI61iG0-B2ZGJocvGjJTTQhoEB-twActkCmZbOggiMOZoR-7ajKw7TNu4O4PdK72oBgq0FkJlOVQ4iTgMJUCmuAFi-1rTfG6LRHPsP2rgd7SbfraCzAiSaHnVPP8m3bU23ssUvlDhE5GQrXu9ofwVg66lnHWVLPPyK-SO9tY6PkdG5bErX4e3ipGZRAa-ehe2MzsLozNT467mXNkJSdxlBsqtRBa4fYd1s19VAwxhNVwXWSF8YhYa7YET3RJ8VPm51K6iq0K7no2q87Ix9oYpReN4EowOAnn8xehcFWbwFbPEXrcSdssYdJSwfW1cf8iBATHHEHnPC_PkQHFLE_FzBFgCF3q85WC34_mLdHtw3AQF9rQ9YhlqxRJwMiXf9hva-piNyAL6MAFq27WNi3wFWT9EbTF_jU4Ti8VWheF1Y9eqsU4v7JSVovWa_N3g5CENG_v6Au2-OAQvJOiAp6IsJqIsRaGr3Vcei-fCZtUOlv69qs3JSyVzViG85LCDPdSTnfLkTYUNNF50R1V62-yoZj7qQBXWki5OlA4Xtoii9xtuqmSMlttYFSMQQRkech74BVWLPBhRoexeFyDv6S88sJEQuI7g3YRzfgleo7WXL2bMCvhOA7kqWYyj0hK1Vym_oN7-yY_eE2OYEHKm6WHmahv48mh3fpYrmOgbBb0TCYQxf9gOxIj8oB3pnD0AXBer4SU57W-pWw4Laz-5CgI3GwxdeZBQxq0I2DP9fHk0SfwXInySljGfB8iNJK2Gbnlh_JMVkMehAaex2XjCRm5AkWmBm3D8bUgApbPMYJv5wwfdr8PH15eJeaQJikEu46XaQnoYLkXNsuk83sJbssU9o92p8ntL_wccby5JBGQB-i-ILZTJ5DTEyHjFY96Il4wV_o5iDOZzuL0kMMvvONmQcafV1w3KBK0DEvmQj_wSxjOZO8v4VAZSFaXKf1ODPeuKTDN_xbMJK9vhr1JVFR6Cx1905WObTJTZIUCBOf06u3SBN-CjZmXnj6bHh0Bcxl_MEhdgwZ6icKc6PzZPH_4vFhseswgWdwSeddtsxZHMY_hJ1iBxvzzJSOuFMeWUTv87ywL3z8y2nwQDrFS9rIaIqEQZtZkNe93RlWScaiYegNcSuNq9foFSgzC1wpLKnuFXXNcQ_qkJKD_tYY9rfA&pos=16&reqid=1zYW4Z4ydR9E6l3n&type=CLICK',\n",
       " 'https://tka.tiki.vn/pixel/pixel?data=daKl-MBMxl6HNMT_GxKzSDTE6fpctrpTZdQuSClrdiwQylhwnS5ugjXyTKGkQ6s1frgn7FBrSgo_u-meAfh8mT3UglDlv4kUXMUOEhInDtG5igfgO1Px9FoA_gXr6knbV33hzOAsfpTXKl2SxJMSvC-9dEvBsTtJepXNrgQwwB0Ex7w3u5EJAWrxEo4c8Fh09dGYv-DwOpsMwqNEvYv5ukJEzbGZWg2giMgju_RuxdeKz3HX_WTLzdmtXCf7A11PLVk18t0DaScUOXXn0Io0GonFJqiseBYU59nFihmJu0AUo5fdeuFDNF3BU38VDUwg8dVACsZeYkj6JSoesIqrFEBfB9Kd4VhCM1kwX38S3sNTmMDG2paY0i8d4onA3Vd5aiyL0zqUfBaiTA8sBJsIXMI42f5SioHkHi-b_9Ulnw1-oomrI8wvD9NwOnDxOPVEOzS5KtQ36jXWa64iQX3ZHazFaJy2GHfddVVjt5643xQYH-Mj_5amHisp9fhE6z0257ut3AohtxutAAmJhNkr6ZBiWD57fPzluVLORZ58zD6qKaxYa9sLq83ObP-ZYZXInTYvlDBw8nwkdzUo5GzQhc0TuK0sI4d-WgJpnDwRQ_DRB0_dBDC5gAJU-vP3NSMtrZSpIwRvbmy981u5GFoS4wqC3cIibRYAUlRW7qpP8I5vRVhBPOeSKYbN76crho_Elsj0ClNAqeckHN4wivl3hwNI7IRlq3THqqIAQS2U2iWcFLloMCqqnCJXZIZZcDz1o_B3FqUaIpsHgr68i12w-B5bBGoxP7Q5zsx9jtyMdfCZ0xzN7zGzSJSatjK6feVEZy3yXHf0yUP7s8TAwZ361Tg9c7TN9Bc2A9DU07eYz8yzUtNvBeqfurLwUGHeG-hUK7WwydKd6agIdgY1-hcDKDhrKlxyPI0LegPZ-QF-IQ8e9Ktxv3VastwlgR6-kbq-0W90N2IJ06kkkANUaT_GjEwAIE3BVKS0PWQ9l4BroVYf36xMD-e-9HHczn5J2KbiUpsyOXXpADys5N1CsekxGnkHhLFWONWsFZqUmEBcpbj1qatnWtQQoEetcbyjXDq1pt6jeNoI7B7ROM1leomLTWDLynpwPv0h2Yw54SX-1eVke1JpGq2_Q18_E-Hvle9lnHdQRCVNDHYdwQMEWnRpvSBHTmFFORc5c-QRtk3cbnq-WToAQQw0HioMug_zPAamMdm9IRefePVMIjPT_latG9A0PP5Bn7UOtyMBeWuBG3D-xDA2JUI5nnL12KaOgi1wjr1aUZSFgMpC_k_FoQtZUk6Kn6Dwiooub1ABBgejxYTMFyphp8xSrDI9qyTbAq_4183tPjRKAj7REekXWV4UH8kInkbeZzcIx13njyNRq0Mb8yM1s8RNqUs5XLA3Q82eGYAbsF1RFmXZGBsPCwBbsX-d0rFswKk1FRqt_JzsZmdNW7V6yRKrUcDkpnBQlV7FQPR2jQd_uWpkdqtcxNeoiWJXOJAexy0WyIAXl4aMaxFQS0rc1BndJQnAL-9VRhWk8yHQO9Wei4wQgk0rUU_Iikv5Z6ReabJOTqdir5mH7Hi1NK06RdI0lkPzrdFOY-f826WWdIcQUGCXK2jAoYGCJTxyBWQpmw6LUyGsYWsFOvlzCu4&pos=17&reqid=1zYW4Z4ydR9E6l3n&type=CLICK',\n",
       " 'https://tka.tiki.vn/pixel/pixel?data=o0IxB6G7DuiD4CGS7S8QYQBTANISeBFrctBfGw_7wKt5ykMaRHn_Bd5sRF34fu7C1cG2tvI49g14l6jkYtuJhFhAE1AtsOOowi9VucDcgo7IiZyhPvJ1NWH1KOFLT9bzG09Tl6j2dF2DIBS__vy5iUBEfbafcP4-uQTAjmN9kayToUBqLIT-xkhSOJH1-O8tXCB69P8QN2vNetyvz_LJF5QfSzk5HMgf1tcW9HrCdh7oMmlDl0s28VY8L_tSm9KxxUWyuFG_1nWvtBRJNxEW1Pm_lpJL1cSjEmdkh0MgjiAnABzriI2ufVXfnwygAf-N5YrjbD0HFSoyyENPWJyrJd1cdCRu0EApz7ScyezVKUL0bzIw-iBX3M-t3CTgNYs3euzpA9uUN-3ZNYfWPYy6BNkM8M1VeuAAm11glsyTtjg6D07irgnNa06JZvSxVMFJmWBPxKadeCSDWaHKmw5kQ2uIW6OPiMapNJb48rPvgIU4vh3wQp2d7Swd6TNGyxyvhG8irG-nCFkwAaXMSSpkCMKQ7xnQwbScOh8RY8XRLqduAGUYigE6uvn0bYPU4ozpZsvZfyVZjsGYfOIOniXx74WlpZRTlhQpNIz436p8meyeVtTkMMvWW8JdGjZ8-qD-TvCJOR_l59TrnEA3WMSuKBKsABH4ZlubUCfSbal1zWPzU17ScqOrPqkLrAkuZBMowbnpNP7_IJ9gH83bSVi0EMYXl6POpzdofcUqG8oT70X41b6GdTSPoooUXeb5zQHH00WL2BsvZALMZZ3o7oc0BkWHymx0zP2ODSC4Nqfsgw2zK1e_uFEGnIakW8n-PFYwfaVqcSMPD5e9pmpANecbGN8SsQYtpXKVhfWS0g_6yASa7jlrel-OBTZldWMqRepR8KEeFycdkYQNAxlmXd4KK-Dndkn3hXs8J_8JlHclsmpdq-1vPYhHOvzcBqJCwhPufAuaYXvdyWyHvAJLtg87ZlJJ50Sk7mxOLg4cQXMJsY8D7OLT1vd3sLgbI1cdaXxQoPwwe-EuSOYHvrR_dbyLVLRTnLEti0Nfq_podT3m6j5AIjBcR5gLnAcVvp7anii1vs6JRZdv9sCmY4gAiabo6qmZvjhchgakYCvsjxOBhB072BDKQMiWqjOxnQa2h3Cz1OiTOPQdOLribz72CQKv_JcbWs-FTKR8-BE_7FrROwxiVuGXCLAzwCx7f2zPpsbAmyc-qZLx6SWarBvjZ95ywei7_lu22YG7vIGg0-Rs-XvyBwO90O-nMFMWvx7Il4I61awIfJE7DpL7OXUsiHW2uaOatGMJ2rc59zlvIXgiV8xhIqqik4gmDuJYrImD6YXLNiwGhv0ijc_BxC46_nM0NMOotWvemBM1VNYMlkcLAGVJY8xJ7fz4ys0hKbP7QLL03sId5kF2SwFwLCXubX8Su8ttiSC9qPCmJg_T6Gz40mq4F4k0ATnc-subrO1heMt5JNUrnN1CFjYihaty438byg3UxDIP89fFeLIG6LSYbOiTnl6Od3oV7S1-G89ZHZDtWvohVAk0uw-7g6g5T3fT_Ec_hSFK_Q1HpH92SWrB3WTfR0Uc3Y4Z__hh8-tJMWQPYR5_JYUnWWMTN-fQMYNQVh6EEHL2lDjaPUG5LSn_4ul8yd1e&pos=18&reqid=1zYW4Z4ydR9E6l3n&type=CLICK',\n",
       " 'https://tka.tiki.vn/pixel/pixel?data=B_UrCcp2H5_Agcd9aaoxSKJ4sFr13UkU1gC60502XTjIPGMyExb-7FddspGIyuO6ApRf2SUORq2KlsHI7OstB_q43QJbeiY1T4rLCAWufL2h5C6jqqeYkJIWWWXCut8UC9EHwPfQ3_WofmIlt8n_JLBwoYeL82Y7rrbZvjJetpq_oMAa-Uf6ooksRS8acngMwsB_TKzxXK-TTTEdMzVO0dDNcodsvF5vsul_-To2TvwnlpbfzpkJm8hApXZ-LG7Ltf1KV1YnMbby1KTQhcfYl2wEHOUq5b0fG9BCfpF-y7fHHnPePmeEl7nTKg612g_MDySqzd1D3mB7XnUZBbx2kat14cWjM8nN5eF032oR4k6RtFIpIIpdjBPKZoriJWbDd2urT84WB6gZ1uYscSuJ0sYwscX2wcbV_83Gu-e63DpdkTggQ6bTi4CWA1p4c2DUNkR9HYYlZX3kNOuyViJUS-UTLntQIoNwePy90EIdpSl7hdVHI8c4-nwDOBnZGjTC3gs9-hUrUvEUed527wUzyb01-9aw2N_ZwPwbftCKaaSiJRQN3Xi0dzGaoNqAuBSaQyJMwTvHxX5_zelVLOTb8YhVIP3SogVVhKWFf4jkCY2qMArumsukH8uBWVR7XBDInYSFW3VKZyVvtkwTCIXW4_IdVdwaB0QOOvwGMu4dTmiYp94heQmFfrXWS2RkTBexoUO6kYI0-dPJ-J1qPbr87x8b9IWB8mbDnS8RRVYWNhELFHD45uM-JfhVamndb9fo9DcIwFOzx_Vo3dko5Mo7395jJMLbmOCpGp8-CsHy9qs_iemjyAle9pNiU9nex3tdGXPm4XN_TrivQ1Nn8kP9Jac0LR1EkdXU3el-yRpqz2r1bUAiYXWpRtEBLSb81c1-MhsMZ-NDuhiMQiePG6vhpJ8FSzj3vxMhEcSz0zeGcc3HyR7Lq_EV_OakD-l9j5864YTNJ6iug7KPJpivY9SgeIZcKQCq9wPG55iksuZu67N9agYawo5FisMWvKqaPN7EMa5X9w8RZBIm0VdBrsbe4RvEVi8KyQ8jXwdqXpg8nPKOnNmnWLknyup_LmUTiMUL2mTruvpUQFOukrF4o0lI-QWJH1Pt_rxEADDqmlmhjqDAVuAv_ZNde_zaoI8-qv8y7_crZ384f4f4UFFdq87bD0rTtblYTP1YTNebDWXo48sFb4ycHOXD3bwJRUuyM84pfbJwYf8asemK2LvvUxIUuab-UGdnGuL13_CG4qJZKu0n1_rYSYJ8DgZsgPK5ZOHI13tg282y1NB89uMuvUt78QVkZoK1mKz77_UPatAEBM-_hqKP2Ck7GEUqSLAHwl7v0J1ZVjJSlqzrwSxFtnZoPD9WvqpVWUQrMs_wzNzEiMfG0jSfI4Ns_neBi3WXFtKB4EmhWFuvdmeZrbUGafDOuJivSmb1eYod5UPtYEKZ4vmrsqQvDCPBN-dWI6zFNWYdrYDVeGAq-bpHJFEqQiv4V3s7WvJIbTh2-WzPfd2EB8Z_-jS6o4M1muzDbe2_yY8JhW8sj_FTv_jXam5ykJYjjX9T77pPlyNDRVhtvnB7KIuQ7JalbnaTfX4Xd6zstZTUOGQQoBsBqsdap8dbyqbdToTTm_bEn6A8Bcu578dPIZrqWQ&pos=19&reqid=1zYW4Z4ydR9E6l3n&type=CLICK',\n",
       " 'https://tka.tiki.vn/pixel/pixel?data=SrtqFZkq1pruzOUbTOUia3U3_nvXq9-mfyo1j4RkZJjSSYun96F07QfulABUHz-gJ32BPAJDD203J7f7dNz_IS0EJ19jhn7896_3GwyT3K6QtR2vJhta01rbhxRbH6NcLZ1a5wzvs48NqS5tCT45AxaviGH6zQ_G4iHBTqzEkAxxeVI2PXeM-JUdWdx7x59fKn_vO691q4wFfzm1c50YXv2Ei5uDz7z8CopaaLpZ7IMTN203IJAtbvnbjPiNbxmDDBkDYZiJMh3Gzmt6nKBdeGMu7aqEOG7Es38556qjJzNqN-cQgRcXDITPFddGGU3SX5YhyewYUWKWhQrRwsd3pxAyfVXi99pRB5HmhH8tFOqF3P2-aJef-aPm2w9uSEpZxyH5oQQQhlx1eemePo_abhOuVmyUVTGETyog3edaff7HP8rsvIVrOSdoYEEDy0pBsIsd2evkHK16a3WM2yX5aCgGgHDkNDYGyPJ6jd93cl-DB3Bxu9w5eoEGK4Vv2ByYzv2eEZRqFPqCJ8A7J_kc-NsyvQiZMOcJ9OjB9lBlA9ObJkITU4WHyeiHryvXooclz8ZAP8NoyTiAIAto4jykH1QD-J8O1G20j8kdflaboVQpVES_0GPjAWZvpmiR0Nxk7bW4_2vr0IYCPUgaXai7TKQZp5M0wSZoDldOgyBemqci-jWL69IrkY73IDq9Y_m7BelasJrutT5gtXBaV8_tVvCn1SjYVRjiec-1NsTiOPADbu4ihHZAlkFJlY9t25vQrt2ETDyI_r8eQWjVWCsuZS10dBtYxj4NJFFexW5Wh5NAsQFr_vAzuZL_DxH_ymFfLAKsTAFevOMDlt-dYcej2YVkJF3-ASJnf3kj6tkDkt-6NsjxoKyc4AQwgDhF1qKVmnKDQqQ0fabATEUcXojIOSZ21JIv36xHDa7-G9NwSl8AcQYQzqW6iOnUT8E6dmuxXM1c6Fb7SauTUj_hk0KhWM8yk0Wr2hm_g3LFP_STFzEjqu46uDCLljYSQQkA3m9O-VUuYVPAfnOCkHSoX6lKM3rx-5tmiic7bhCwfr0CCJUErZTayTGesCTzTGmehP3Iftuto-oYM3B-jVEEzx5V6qV-N4H2g-p8Qeu_z6iEPlrZUVi-CrqI1rsJIv5YVniYJElO6WHQf_JLoRCwjdd77xkNBoKpgjOIjn8wWBGO2zMJy6K7Tki8suRkzvFl5AoPejigJSAYNaAOrPVsXNoJwpICqs_a84uTZsSs9uQHhZ2oTBFzgcbeOFLYFgBzlcDTC1xkvDhwAniOLJC-klT7VfhWo4hk8lz3qENMMlN29qe0FiEdM4njgl15EkSprHb70AWW4b2jbPFHg9XJU1b7Uo6Uc1Lybl44vUAbb6TNEka_O4Q0YJSnpWhbihMYH8QiomEHqY_78_MrUOtd_SV1WVZ5I28UPGynRc5ClhnYfAwTxkOVfzg3YnfQDJKM5Cj063_iINNPEfR80XjkHxcTpwiYNinrk4Cx7EBsLyVFrSQXoUBW1iubAZyIv_b1H58CiZXismkRCgF4zcyWJKZeOA7U4lFKZukDP4yu9LCMBGw4pLS2XCThm2GqTnd-XL_2Y7ESMWLUtK2gKyCM5TcOgGZPWv3eGZKLrrFxCCRhOpeoFwLbfPUM-YpHb15FnBDQv8P4yFsOow&pos=20&reqid=1zYW4Z4ydR9E6l3n&type=CLICK',\n",
       " 'https://tiki.vn/may-doc-sach-kindle-paperwhite-5-8gb-hang-chinh-hang-p179547641.html?itm_campaign=tiki-reco_UNK_DT_UNK_UNK_tiki-listing_UNK_p-category-mpid-listing-v1_202302280600_MD_batched_PID.217500662&itm_medium=CPC&itm_source=tiki-reco&spid=217500662',\n",
       " 'https://tiki.vn/dien-thoai-nokia-c30-2gb-32gb-hang-chinh-hang-p120295859.html?itm_campaign=tiki-reco_UNK_DT_UNK_UNK_tiki-listing_UNK_p-category-mpid-listing-v1_202302280600_MD_batched_PID.135545307&itm_medium=CPC&itm_source=tiki-reco&spid=135545307',\n",
       " 'https://tiki.vn/dien-thoai-samsung-galaxy-s20-fe-256gb-8gb-hang-chinh-hang-p175967811.html?itm_campaign=tiki-reco_UNK_DT_UNK_UNK_tiki-listing_UNK_p-category-mpid-listing-v1_202302280600_MD_batched_PID.175967820&itm_medium=CPC&itm_source=tiki-reco&spid=175967820',\n",
       " 'https://tiki.vn/dien-thoai-samsung-galaxy-a13-5g-4gb-128gb-hang-chinh-hang-p170580388.html?itm_campaign=tiki-reco_UNK_DT_UNK_UNK_tiki-listing_UNK_p-category-mpid-listing-v1_202302280600_MD_batched_PID.225208109&itm_medium=CPC&itm_source=tiki-reco&spid=225208109',\n",
       " 'https://tiki.vn/apple-iphone-13-hang-chinh-hang-p184059211.html?itm_campaign=tiki-reco_UNK_DT_UNK_UNK_tiki-listing_UNK_p-category-mpid-listing-v1_202302280600_MD_batched_PID.123547399&itm_medium=CPC&itm_source=tiki-reco&spid=123547399',\n",
       " 'https://tiki.vn/dien-thoai-gaming-tecno-pova-3-6gb-128gb-helio-g88-7000-mah-sac-nhanh-33w-hang-chinh-hang-p187266104.html?itm_campaign=tiki-reco_UNK_DT_UNK_UNK_tiki-listing_UNK_p-category-mpid-listing-v1_202302280600_MD_batched_PID.187266106&itm_medium=CPC&itm_source=tiki-reco&spid=187266106',\n",
       " 'https://tiki.vn/dien-thoai-oppo-a57-4gb-64gb-hang-chinh-hang-p189658085.html?itm_campaign=tiki-reco_UNK_DT_UNK_UNK_tiki-listing_UNK_p-category-mpid-listing-v1_202302280600_MD_batched_PID.189658087&itm_medium=CPC&itm_source=tiki-reco&spid=189658087',\n",
       " 'https://tiki.vn/apple-ipad-pro-11-inch-m2-wi-fi-2022-p205815593.html?itm_campaign=tiki-reco_UNK_DT_UNK_UNK_tiki-listing_UNK_p-category-mpid-listing-v1_202302280600_MD_batched_PID.205815595&itm_medium=CPC&itm_source=tiki-reco&spid=205815595',\n",
       " 'https://tiki.vn/dien-thoai-oppo-reno-7-5g-8gb-256g-hang-chinh-hang-p168304536.html?itm_campaign=tiki-reco_UNK_DT_UNK_UNK_tiki-listing_UNK_p-category-mpid-listing-v1_202302280600_MD_batched_PID.168304540&itm_medium=CPC&itm_source=tiki-reco&spid=168304540',\n",
       " 'https://tiki.vn/dien-thoai-oppo-a16k-3gb-32g-hang-chinh-hang-p142545270.html?itm_campaign=tiki-reco_UNK_DT_UNK_UNK_tiki-listing_UNK_p-category-mpid-listing-v1_202302280600_MD_batched_PID.142545275&itm_medium=CPC&itm_source=tiki-reco&spid=142545275',\n",
       " 'https://tiki.vn/dien-thoai-samsung-galaxy-z-flip-4-8gb-128gb-hang-chinh-hang-p194034217.html?itm_campaign=tiki-reco_UNK_DT_UNK_UNK_tiki-listing_UNK_p-category-mpid-listing-v1_202302280600_MD_batched_PID.194034223&itm_medium=CPC&itm_source=tiki-reco&spid=194034223',\n",
       " 'https://tiki.vn/dien-thoai-samsung-galaxy-a23-5g-4gb-128gb-hang-chinh-hang-xanh-p170581659.html?itm_campaign=tiki-reco_UNK_DT_UNK_UNK_tiki-listing_UNK_p-category-mpid-listing-v1_202302280600_MD_batched_PID.228993924&itm_medium=CPC&itm_source=tiki-reco&spid=228993924',\n",
       " 'https://tiki.vn/dien-thoai-samsung-galaxy-a03s-3gb-32gb-hang-chinh-hang-da-kich-hoat-bao-hanh-dien-tu-p127372598.html?itm_campaign=tiki-reco_UNK_DT_UNK_UNK_tiki-listing_UNK_p-category-mpid-listing-v1_202302280600_MD_batched_PID.203293707&itm_medium=CPC&itm_source=tiki-reco&spid=203293707',\n",
       " 'https://tiki.vn/dien-thoai-samsung-galaxy-s21-fe-5g-8gb-128gb-hang-chinh-hang-p155536275.html?itm_campaign=tiki-reco_UNK_DT_UNK_UNK_tiki-listing_UNK_p-category-mpid-listing-v1_202302280600_MD_batched_PID.155536281&itm_medium=CPC&itm_source=tiki-reco&spid=155536281',\n",
       " 'https://tiki.vn/apple-iphone-14-plus-p197214015.html?itm_campaign=tiki-reco_UNK_DT_UNK_UNK_tiki-listing_UNK_p-category-mpid-listing-v1_202302280600_MD_batched_PID.197214017&itm_medium=CPC&itm_source=tiki-reco&spid=197214017',\n",
       " 'https://tiki.vn/dien-thoai-oppo-reno-5g-8gb-128g-hang-chinh-hang-p81027831.html?itm_campaign=tiki-reco_UNK_DT_UNK_UNK_tiki-listing_UNK_p-category-mpid-listing-v1_202302280600_MD_batched_PID.81027835&itm_medium=CPC&itm_source=tiki-reco&spid=81027835',\n",
       " 'https://tiki.vn/dien-thoai-nokia-110-4g-hang-chinh-hang-p191089547.html?itm_campaign=tiki-reco_UNK_DT_UNK_UNK_tiki-listing_UNK_p-category-mpid-listing-v1_202302280600_MD_batched_PID.191089549&itm_medium=CPC&itm_source=tiki-reco&spid=191089549',\n",
       " 'https://tiki.vn/dien-thoai-nokia-c20-2gb-16gb-hang-chinh-hang-p135332196.html?itm_campaign=tiki-reco_UNK_DT_UNK_UNK_tiki-listing_UNK_p-category-mpid-listing-v1_202302280600_MD_batched_PID.140621855&itm_medium=CPC&itm_source=tiki-reco&spid=140621855',\n",
       " 'https://tiki.vn/dien-thoai-xiaomi-redmi-9a-2gb-32gb-hang-chinh-hang-p57809866.html?itm_campaign=tiki-reco_UNK_DT_UNK_UNK_tiki-listing_UNK_p-category-mpid-listing-v1_202302280600_MD_batched_PID.196161253&itm_medium=CPC&itm_source=tiki-reco&spid=196161253',\n",
       " 'https://tiki.vn/dien-thoai-vivo-t1x-8gb-128gb-hang-chinh-hang-p206084979.html?itm_campaign=tiki-reco_UNK_DT_UNK_UNK_tiki-listing_UNK_p-category-mpid-listing-v1_202302280600_MD_batched_PID.206084983&itm_medium=CPC&itm_source=tiki-reco&spid=206084983']"
      ]
     },
     "execution_count": 8,
     "metadata": {},
     "output_type": "execute_result"
    }
   ],
   "source": [
    "links"
   ]
  },
  {
   "cell_type": "code",
   "execution_count": 9,
   "metadata": {},
   "outputs": [
    {
     "name": "stdout",
     "output_type": "stream",
     "text": [
      "Crawling Link 1:\n",
      "    Crawling tab1\n",
      "    Crawling tab2\n",
      "    Crawling tab3\n",
      "    Crawling tab4\n",
      "    Crawling tab5\n",
      "    Crawling tab6\n",
      "    Crawling tab7\n",
      "Crawling Link 2:\n",
      "    Crawling tab1\n",
      "    Crawling tab2\n",
      "    Crawling tab3\n",
      "    Crawling tab4\n",
      "    Crawling tab5\n",
      "    Crawling tab6\n",
      "    Crawling tab7\n",
      "    Crawling tab8\n",
      "    Crawling tab9\n",
      "Crawling Link 3:\n",
      "    Crawling tab1\n",
      "    Crawling tab2\n",
      "    Crawling tab3\n",
      "    Crawling tab4\n",
      "    Crawling tab5\n",
      "    Crawling tab6\n",
      "    Crawling tab7\n",
      "    Crawling tab8\n",
      "    Crawling tab9\n",
      "Crawling Link 4:\n",
      "    Crawling tab1\n",
      "Crawling Link 5:\n",
      "    Crawling tab1\n",
      "Crawling Link 6:\n",
      "    Crawling tab1\n",
      "Crawling Link 7:\n",
      "    Crawling tab1\n",
      "Crawling Link 8:\n",
      "    Crawling tab1\n",
      "Crawling Link 9:\n",
      "    Crawling tab1\n",
      "    Crawling tab2\n",
      "    Crawling tab3\n",
      "    Crawling tab4\n",
      "    Crawling tab5\n",
      "    Crawling tab6\n",
      "    Crawling tab7\n",
      "    Crawling tab8\n",
      "    Crawling tab9\n",
      "Crawling Link 10:\n",
      "    Crawling tab1\n",
      "    Crawling tab2\n",
      "Crawling Link 11:\n",
      "    Crawling tab1\n",
      "    Crawling tab2\n",
      "    Crawling tab3\n",
      "    Crawling tab4\n",
      "    Crawling tab5\n",
      "    Crawling tab6\n",
      "    Crawling tab7\n",
      "    Crawling tab8\n",
      "    Crawling tab9\n",
      "Crawling Link 12:\n",
      "    Crawling tab1\n",
      "    Crawling tab2\n",
      "    Crawling tab3\n",
      "    Crawling tab4\n",
      "    Crawling tab5\n",
      "    Crawling tab6\n",
      "    Crawling tab7\n",
      "    Crawling tab8\n",
      "    Crawling tab9\n",
      "Crawling Link 13:\n",
      "    Crawling tab1\n",
      "Crawling Link 14:\n",
      "    Crawling tab1\n",
      "    Crawling tab2\n",
      "    Crawling tab3\n",
      "Crawling Link 15:\n",
      "    Crawling tab1\n",
      "    Crawling tab2\n",
      "    Crawling tab3\n",
      "Crawling Link 16:\n",
      "    Crawling tab1\n",
      "Crawling Link 17:\n",
      "    Crawling tab1\n",
      "    Crawling tab2\n",
      "    Crawling tab3\n",
      "    Crawling tab4\n",
      "Crawling Link 18:\n",
      "    Crawling tab1\n",
      "    Crawling tab2\n",
      "    Crawling tab3\n",
      "Crawling Link 19:\n",
      "    Crawling tab1\n",
      "Crawling Link 20:\n",
      "    Crawling tab1\n",
      "Crawling Link 21:\n",
      "    Crawling tab1\n",
      "Crawling Link 22:\n",
      "    Crawling tab1\n",
      "Crawling Link 23:\n",
      "    Crawling tab1\n",
      "    Crawling tab2\n",
      "    Crawling tab3\n",
      "    Crawling tab4\n",
      "    Crawling tab5\n",
      "    Crawling tab6\n",
      "    Crawling tab7\n",
      "    Crawling tab8\n",
      "Crawling Link 24:\n",
      "    Crawling tab1\n",
      "Crawling Link 25:\n",
      "    Crawling tab1\n",
      "Crawling Link 26:\n",
      "    Crawling tab1\n",
      "    Crawling tab2\n",
      "    Crawling tab3\n",
      "    Crawling tab4\n",
      "    Crawling tab5\n",
      "    Crawling tab6\n",
      "    Crawling tab7\n",
      "    Crawling tab8\n",
      "    Crawling tab9\n",
      "Crawling Link 27:\n",
      "    Crawling tab1\n",
      "    Crawling tab2\n",
      "    Crawling tab3\n",
      "    Crawling tab4\n",
      "    Crawling tab5\n",
      "Crawling Link 28:\n",
      "    Crawling tab1\n",
      "Crawling Link 29:\n",
      "    Crawling tab1\n",
      "    Crawling tab2\n",
      "    Crawling tab3\n",
      "    Crawling tab4\n",
      "    Crawling tab5\n",
      "    Crawling tab6\n",
      "Crawling Link 30:\n",
      "    Crawling tab1\n",
      "    Crawling tab2\n",
      "    Crawling tab3\n",
      "    Crawling tab4\n",
      "    Crawling tab5\n",
      "    Crawling tab6\n",
      "    Crawling tab7\n",
      "    Crawling tab8\n",
      "    Crawling tab9\n",
      "Crawling Link 31:\n",
      "    Crawling tab1\n",
      "    Crawling tab2\n",
      "    Crawling tab3\n",
      "    Crawling tab4\n",
      "    Crawling tab5\n",
      "    Crawling tab6\n",
      "    Crawling tab7\n",
      "    Crawling tab8\n",
      "    Crawling tab9\n",
      "Crawling Link 32:\n",
      "    Crawling tab1\n",
      "Crawling Link 33:\n",
      "    Crawling tab1\n",
      "    Crawling tab2\n",
      "    Crawling tab3\n",
      "    Crawling tab4\n",
      "    Crawling tab5\n",
      "    Crawling tab6\n",
      "    Crawling tab7\n",
      "    Crawling tab8\n",
      "Crawling Link 34:\n",
      "    Crawling tab1\n",
      "    Crawling tab2\n",
      "    Crawling tab3\n",
      "    Crawling tab4\n",
      "    Crawling tab5\n",
      "    Crawling tab6\n",
      "    Crawling tab7\n",
      "    Crawling tab8\n",
      "    Crawling tab9\n",
      "    Crawling tab10\n",
      "Crawling Link 35:\n",
      "    Crawling tab1\n",
      "    Crawling tab2\n",
      "    Crawling tab3\n",
      "    Crawling tab4\n",
      "    Crawling tab5\n",
      "    Crawling tab6\n",
      "    Crawling tab7\n",
      "    Crawling tab8\n",
      "    Crawling tab9\n",
      "Crawling Link 36:\n",
      "    Crawling tab1\n",
      "    Crawling tab2\n",
      "    Crawling tab3\n",
      "    Crawling tab4\n",
      "    Crawling tab5\n",
      "    Crawling tab6\n",
      "    Crawling tab7\n",
      "    Crawling tab8\n",
      "    Crawling tab9\n",
      "Crawling Link 37:\n",
      "    Crawling tab1\n",
      "    Crawling tab2\n",
      "    Crawling tab3\n",
      "    Crawling tab4\n",
      "    Crawling tab5\n",
      "    Crawling tab6\n",
      "    Crawling tab7\n",
      "    Crawling tab8\n",
      "    Crawling tab9\n",
      "Crawling Link 38:\n",
      "    Crawling tab1\n",
      "    Crawling tab2\n",
      "    Crawling tab3\n",
      "    Crawling tab4\n",
      "    Crawling tab5\n",
      "    Crawling tab6\n",
      "    Crawling tab7\n",
      "    Crawling tab8\n",
      "    Crawling tab9\n",
      "Crawling Link 39:\n",
      "    Crawling tab1\n",
      "    Crawling tab2\n",
      "    Crawling tab3\n",
      "    Crawling tab4\n",
      "    Crawling tab5\n",
      "    Crawling tab6\n",
      "    Crawling tab7\n",
      "    Crawling tab8\n",
      "    Crawling tab9\n",
      "Crawling Link 40:\n",
      "    Crawling tab1\n",
      "    Crawling tab2\n",
      "    Crawling tab3\n",
      "    Crawling tab4\n",
      "    Crawling tab5\n"
     ]
    }
   ],
   "source": [
    "import time\n",
    "comments = []\n",
    "for i in range(len(links)):\n",
    "    print(f'Crawling Link {i+1}:')\n",
    "    driver.get(links[i])\n",
    "    \n",
    "    page_height = driver.execute_script(\"return document.body.scrollHeight\")\n",
    "    driver.execute_script(\"window.scrollTo(0, document.body.scrollHeight-3000);\")\n",
    "    time.sleep(4)\n",
    "    driver.execute_script(\"window.scrollTo(0, document.body.scrollHeight-2000);\")\n",
    "    time.sleep(4)\n",
    "    driver.execute_script(\"window.scrollTo(0, document.body.scrollHeight-1000);\")\n",
    "\n",
    "    cmts, number_tab = [], 1\n",
    "    while True:\n",
    "        page_source = BeautifulSoup(driver.page_source)\n",
    "        reviews = page_source.find_all('div', class_='review-comment__content')\n",
    "        reviews = [review.text for review in reviews]\n",
    "        for idx in range(len(reviews)):\n",
    "            if reviews[idx] != []:\n",
    "                cmts.append(reviews[idx])\n",
    "        if len(cmts) >= 50:\n",
    "            break\n",
    "        try:\n",
    "            print(f'    Crawling tab{number_tab}')  \n",
    "            next_cmts = driver.find_element(By.XPATH, '//*[@id=\"__next\"]/div[1]/main/div[3]/div[4]/div/div[2]/div[8]/ul/li[7]/a')\n",
    "            next_cmts.click()\n",
    "            number_tab += 1                     \n",
    "        except: break\n",
    "        \n",
    "    comments.append(cmts)\n",
    "    \n",
    "    "
   ]
  },
  {
   "cell_type": "code",
   "execution_count": null,
   "metadata": {},
   "outputs": [
    {
     "data": {
      "text/plain": [
       "[['Máy nguyên seal, cơ mà bên vận chuyển nhấn thành đã giao hàng làm tưởng bên họ có người lấy hàng của tôi. Dù vậy vẫn cho 5 sao vì máy vẫn còn nguyên, chưa khui seal',\n",
       "  'Điện thoại đẹp, đáp ứng đủ nhu cầu cần thiết, màn hình full HD+, pin trâu, có hỗ trợ sạc nhanh, quá ok với tầm giá\\nTiki giao hàng siêu nhanh, có kèm mã bảo mật khi nhận hàng đã thanh toán giá trị cao\\nCho 5 sao',\n",
       "  'Hàng nguyên seal, chất lượng, giao hàng nhanh.',\n",
       "  'Hàng giao nhanh, chuẩn, được đóng hộp rất kĩ càng. Sản phẩm vượt ngoài sự mong đợi, rất cảm ơn Tiki, sẽ ủng hộ Tiki nhiều hơn nữa',\n",
       "  'Giao hàng nhanh, đóng gói kỹ, hài lòng!',\n",
       "  'Máy nguyên seal, cơ mà bên vận chuyển nhấn thành đã giao hàng làm tưởng bên họ có người lấy hàng của tôi. Dù vậy vẫn cho 5 sao vì máy vẫn còn nguyên, chưa khui seal',\n",
       "  'Điện thoại đẹp, đáp ứng đủ nhu cầu cần thiết, màn hình full HD+, pin trâu, có hỗ trợ sạc nhanh, quá ok với tầm giá\\nTiki giao hàng siêu nhanh, có kèm mã bảo mật khi nhận hàng đã thanh toán giá trị cao\\nCho 5 sao',\n",
       "  'Hàng nguyên seal, chất lượng, giao hàng nhanh.',\n",
       "  'Hàng giao nhanh, chuẩn, được đóng hộp rất kĩ càng. Sản phẩm vượt ngoài sự mong đợi, rất cảm ơn Tiki, sẽ ủng hộ Tiki nhiều hơn nữa',\n",
       "  'Giao hàng nhanh, đóng gói kỹ, hài lòng!',\n",
       "  'Giao hàng cực nhanh. Điện thoại đẹp, chất lượng thì phải chờ sử dụng mới biết.',\n",
       "  'Ngon rẻ',\n",
       "  'Sản phẩm nguyên hộp nguyên seal. SS việt nam sản xuất. Màn hình đẹp và camera đẹp so với giá. Thao tác thì bị delay 1 2s.\\r\\nTạm ổn cho phụ huynh xem youtube và nghe nhạc',\n",
       "  'Máy đẹp lắm, đóng gói cẩn thận, em giao hàng dễ thương, cảm ơn tiki rất nhiều,',\n",
       "  'Mình mua tặng cho chương trình của công ty. \\nTiki giao hàng nhanh. \\nSản phẩm đóng gói cẩn thận. \\nHiện tại khách đã kích hoạt sử dụng và chưa thấy có phản hồi trục trặc gì.',\n",
       "  'Giao siêu nhanh và đóng gói cẩn thận.\\r\\nMàu sắc đẹp.\\r\\nMua tặng nên không biết dùng sau đó thế nào nữa. Nhưng chắc là ổn vì ko thấy người được nhận quà kêu gì.',\n",
       "  'Dung lượng pin lớn, mua lúc máy rẻ  sử dụng ổn định. Máy mình dùng được 2 tháng hơn thấy ổn, đáng mua',\n",
       "  'Giao nhanh, đúng sản phẩm yêu cầu',\n",
       "  'Hiện tại đang dùng mình cần thay rất ổn, rẻ hơn nữa ở TGDD tới 900k, mọi người nên mua dùng nha, mình thấy rất tốt.',\n",
       "  'Full',\n",
       "  'sản phẩm chính hãng, giá tốt. cấu hình cao, mượt. giao hàng nhanh. đóng gói cẩn thận.',\n",
       "  '',\n",
       "  'Hộp đt rata gọn, đóng gói kĩ\\r\\nMáy nguyên seal chính hãng\\r\\nĐiện thoại rất đẹp ạ\\r\\nĐánh giá tốt cho sản phẩm',\n",
       "  'Điện thoại đẹp, tuy nhiên chế độ 4G có chút rắc rối với âm thanh, mình mang ra Samsung 2 lần rồi, hy vọng là ổn.',\n",
       "  'giao nhanh. điện thoại cam góc rộng chụp tốt.nhưng máy hơi lag.',\n",
       "  'Đã nhận hàng. Cảm nhận ban đầu khá tốt',\n",
       "  'Đien thoại đep, gia tốt. Rat hop cho cn .',\n",
       "  'Đăng ký bh dùm sdt 0329513805',\n",
       "  'Sản phẩm tốt, Giá ok',\n",
       "  'Máy màu đẹp.  Mặt lưng bám vân tay nhiều,  máy k có sẵn chức năng quay màn hình.',\n",
       "  'Giao hàng nhanh, Sản phẩm tốt mỗi tội nay Tiki đóng gói ẩu hơn trước',\n",
       "  'Giao hàng nhanh. Máy dùng tạm ổn.',\n",
       "  'Màu bao đẹp lun á giao nhanh nguyên seal tốt',\n",
       "  '',\n",
       "  'đóng gói chuẩn, xài 1 times xem sao',\n",
       "  'điện thoại đẹp, tuy nhiên dùng cảm giác không mượt. mk dùng vsmart còn sướng hơn',\n",
       "  'Hang dung hinh chat luong mua lan 2 roi .nhan vien nhiet tonh ok',\n",
       "  'Mua cho ba chủ yếu để nghe gọi nhưng phần chụp hình cũng khá là xinh.',\n",
       "  'Máy rất OK trong tầm giá',\n",
       "  'Điện thoại tốt,giao hàng tốt',\n",
       "  'Hàng đẹp, giao nhanh',\n",
       "  'Hàng chất lượng',\n",
       "  'đt dùngokey ,tin tưởng khi mua hàng tiki trading',\n",
       "  'hàng chính hãng',\n",
       "  'Tớ là Đình Vinh !!! Sản Phẩm này rất tốt nhé',\n",
       "  'sản phẩm chất lượng, mình rất ưng ý.',\n",
       "  'Giao hàng nhanh, sản phẩm đúng mô tả',\n",
       "  'test vài ngày thấy ok.hàng nguyên hộp.',\n",
       "  '',\n",
       "  '',\n",
       "  '',\n",
       "  '',\n",
       "  '',\n",
       "  'Tớ là Đình Vị ! Sản phẩm này khá tốt',\n",
       "  'Good',\n",
       "  '',\n",
       "  '',\n",
       "  '',\n",
       "  '',\n",
       "  '',\n",
       "  '',\n",
       "  'tốt',\n",
       "  '',\n",
       "  '',\n",
       "  '',\n",
       "  '',\n",
       "  '',\n",
       "  'điện thoại xài tốt, mức giá tốt',\n",
       "  'đẹp rẻ..độ uy tín tiki là nhất r',\n",
       "  '',\n",
       "  '',\n",
       "  '',\n",
       "  '',\n",
       "  'Máy đẹp giao hàng nhanh, chính hãng',\n",
       "  '',\n",
       "  '',\n",
       "  'Quá ok',\n",
       "  '',\n",
       "  '',\n",
       "  '',\n",
       "  '',\n",
       "  '',\n",
       "  '',\n",
       "  '',\n",
       "  '',\n",
       "  '',\n",
       "  '',\n",
       "  'Quà tặng ba và đang dùng tốt',\n",
       "  '',\n",
       "  '',\n",
       "  '',\n",
       "  'Good',\n",
       "  '',\n",
       "  '',\n",
       "  '',\n",
       "  '',\n",
       "  '',\n",
       "  '',\n",
       "  '',\n",
       "  '']]"
      ]
     },
     "execution_count": 64,
     "metadata": {},
     "output_type": "execute_result"
    }
   ],
   "source": [
    "comments"
   ]
  },
  {
   "cell_type": "code",
   "execution_count": null,
   "metadata": {},
   "outputs": [],
   "source": []
  }
 ],
 "metadata": {
  "kernelspec": {
   "display_name": "selenium",
   "language": "python",
   "name": "python3"
  },
  "language_info": {
   "codemirror_mode": {
    "name": "ipython",
    "version": 3
   },
   "file_extension": ".py",
   "mimetype": "text/x-python",
   "name": "python",
   "nbconvert_exporter": "python",
   "pygments_lexer": "ipython3",
   "version": "3.11.0"
  },
  "orig_nbformat": 4,
  "vscode": {
   "interpreter": {
    "hash": "b7ef84fcd804e2fc79cab531906995dcc004279afd4ec5955c2d2e221348c3bf"
   }
  }
 },
 "nbformat": 4,
 "nbformat_minor": 2
}
