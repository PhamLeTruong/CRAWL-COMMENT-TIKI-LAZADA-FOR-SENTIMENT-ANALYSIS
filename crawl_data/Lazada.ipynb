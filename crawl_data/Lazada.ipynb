{
 "cells": [
  {
   "cell_type": "code",
   "execution_count": 81,
   "metadata": {},
   "outputs": [],
   "source": [
    "from selenium import webdriver\n",
    "from bs4 import BeautifulSoup\n",
    "from selenium.webdriver.common.by import By\n",
    "from selenium.webdriver.common.keys import Keys\n",
    "import time"
   ]
  },
  {
   "cell_type": "code",
   "execution_count": 115,
   "metadata": {},
   "outputs": [
    {
     "name": "stderr",
     "output_type": "stream",
     "text": [
      "C:\\Users\\DELL\\AppData\\Local\\Temp\\ipykernel_17232\\2971956262.py:1: DeprecationWarning: executable_path has been deprecated, please pass in a Service object\n",
      "  driver = webdriver.Chrome('chromedriver.exe')\n"
     ]
    }
   ],
   "source": [
    "driver = webdriver.Chrome('chromedriver.exe')\n",
    "driver.maximize_window()"
   ]
  },
  {
   "cell_type": "code",
   "execution_count": 59,
   "metadata": {},
   "outputs": [],
   "source": [
    "url = 'https://www.lazada.vn/tag/pin--s%E1%BA%A1c-d%E1%BB%B1-ph%C3%B2ng/?spm=a2o4n.searchlist.search.1.38d75c09Kwl4Hb&q=pin%20s%E1%BA%A1c%20d%E1%BB%B1%20ph%C3%B2ng&_keyori=ss&clickTrackInfo=textId--8202858533068249650__abId--329196__Score--3.0982189178466797__pvid--cab749ee-5c1a-4680-b4f3-3bbc5a9717ec__matchType--1__matchList--1-2__srcQuery--pin%20s%E1%BA%A1c%20d%E1%BB%B1%20ph%C3%B2ng__spellQuery--pin%20s%E1%BA%A1c%20d%E1%BB%B1%20ph%C3%B2ng__ctrScore--0.0__cvrScore--0.0&from=suggest_normal&sugg=pin%20s%E1%BA%A1c%20d%E1%BB%B1%20ph%C3%B2ng_0_1&catalog_redirect_tag=true'\n",
    "driver.get(url)"
   ]
  },
  {
   "cell_type": "code",
   "execution_count": 60,
   "metadata": {},
   "outputs": [],
   "source": [
    "page_source = BeautifulSoup(driver.page_source, 'html.parser')"
   ]
  },
  {
   "attachments": {},
   "cell_type": "markdown",
   "metadata": {},
   "source": [
    "# Link của các sản phẩm"
   ]
  },
  {
   "cell_type": "code",
   "execution_count": 67,
   "metadata": {},
   "outputs": [
    {
     "data": {
      "text/plain": [
       "['https://www.lazada.vn/products/pin-sac-du-phong-20000mah10000mah-wp-163-wp-161-cns-pin-chinh-hang-wk-man-hinh-led-bao-hanh-12-thang-i2115643291.html',\n",
       " 'https://www.lazada.vn/products/pin-du-phong-sac-quick-charge-30-225w-pin-dp-hoco-20000mah10000mah-cj12acj11a-cns-sac-nhanh-bao-hanh-chinh-hang-i2115901903.html',\n",
       " 'https://www.lazada.vn/products/pin-sac-du-phong-trong-suot-20000mah-wp-33710000mah-wp-333-tich-hop-sac-nhanh-type-c-pd-20w-quick-charge-30-225w-cns-bao-hanh-12-thang-i2115875492.html',\n",
       " 'https://www.lazada.vn/products/pin-sac-nhanh-du-phong-wp-301wp-303-dung-luong-10000mah20000mah-pin-cns-tich-hop-sac-nhanh-quick-charger-pd-30-225w-bao-hanh-12-thang-i2115856626.html',\n",
       " 'https://www.lazada.vn/products/pin-du-phong-robot-rt180-dung-luong-cao-10000mah-cuc-sac-du-phong-nho-gon-sieu-mong-sieu-nhe-2-cong-sac-vao-1-cong-sac-ra-chat-luong-tot-loi-pin-cao-cap-tang-kem-cap-microusb-i865124466.html',\n",
       " 'https://www.lazada.vn/products/pin-du-phong-robot-rt190-rt180-rt30-rt21-rt23-rt31-dung-luong-cao-10000-mah-20000mah-30000mah-cuc-sac-du-phong-nho-gon-2-cong-sac-vao-1-cong-sac-ra-tang-kem-cap-microusb-i454890662.html',\n",
       " 'https://www.lazada.vn/products/hcmpin-sac-du-phong-chinh-hang-hoco-j72j99-10000mah-hoco-j72j99-i1221283149.html',\n",
       " 'https://www.lazada.vn/products/sac-du-phong-xiaomi-gen3-ho-tro-sac-nhanh-pin-sac-du-phong-1000-mah-vo-kim-loai-chac-chan-sang-trong-bao-hanh-1-doi-1-i2104889602.html',\n",
       " 'https://www.lazada.vn/products/sac-du-phong-samsung-pin-sac-du-phong-10000-mah-ho-tro-cong-sac-nhanh-sac-quick-charge-20-30-thiet-ke-tinh-xao-nho-gon-de-dang-mang-theo-i2104978181.html',\n",
       " 'https://www.lazada.vn/products/freeship-pin-sac-du-phong-khong-day-magsafe-tu-tinh-5000mah-luc-hut-manh-sac-nhanh-chuan-pd-bao-hanh-12-thang-i2019860940.html',\n",
       " 'https://www.lazada.vn/products/sac-du-phong-essager-sac-nhanh-qc30-pd-sac-di-dong-poverbank-sac-pin-ngoai-dien-thoai-di-dong-20000mah-sac-du-phong-danh-cho-xiaomi-mi-i1413386379.html',\n",
       " 'https://www.lazada.vn/products/dung-luong-36000mah-tang-kem-cap-sac-sac-du-phong-mat-guong-dung-luong-khung-36000mah-pin-sac-du-phong-cao-cap-pin-du-phong-mat-trang-guong-thiet-ke-2-cong-sac-ho-tro-sac-nhanh-nhieu-thiet-bi-i2156771845.html',\n",
       " 'https://www.lazada.vn/products/freeship-sac-du-phong-chinh-hang-wekome-10000mah-20000mah-tich-hop-2-cong-sac-dau-ra-va-man-hinh-led-hien-thi-pin-ho-tro-sac-nhanh-21a-bao-hanh-12-thang-i1887206163.html',\n",
       " 'https://www.lazada.vn/products/sac-du-phong-khong-day-tu-tinh-magsafe-5000mah-cuc-pin-sac-du-phong-nho-gon-cao-cap-cong-suat-5w-ho-tro-dien-thoai-android-lphone-cac-dong-ho-tro-sac-khong-day-i2168953915.html',\n",
       " 'https://www.lazada.vn/products/sieu-hot-sac-du-phong-trong-suot-2-cong-20000mah-wekome-wk-wp-337-cong-suat-lon-225w-ho-tro-sac-cuc-nhanh-qc-30-dung-luong-20000mah-co-led-hien-thi-pin-tuong-thich-android-ios-hang-chinh-hang-bh-12-thang-i2103731086.html',\n",
       " 'https://www.lazada.vn/products/pin-sac-du-phong-hxsj-20000mah-ho-tro-sac-nhanh-21a-bao-gom-bon-cap-sac-bon-giao-dien-micro-usb-type-c-lightning-usb-a-tuong-thich-voi-99-thiet-bi-dien-tu-9-co-che-bao-ve-qua-nhiet-den-xanh-dobao-hanh-6-thang-i2137830745.html',\n",
       " 'https://www.lazada.vn/products/pin-sac-du-phong-xingia-re-pin-sac-du-phong-trong-suot-wekome-337-dung-luong-10000-20000mahcong-nghe-qc30-225w-sac-nhanhdau-ra-2-congman-hinh-led-hien-thi-nguonchip-xu-ly-thong-minhan-toan-khi-sac-i2164179030.html',\n",
       " 'https://www.lazada.vn/products/baseus-pin-sac-du-phong-sieu-nhanh-baseus-adaman-225w-metal-digital-display-quick-charge-power-bank-i2140087972.html',\n",
       " 'https://www.lazada.vn/products/mau-moi-2023-sac-du-phong-chinh-hang-sac-du-phong-trong-suot-wekome-wk-wp-337-dung-luong-pin-sieu-khung-toi-20000mah-ho-tro-sac-sieu-nhanh-len-den-225w-co-led-hien-thi-tuong-thich-voi-hau-het-cac-dong-dien-thoai-i2099373759.html',\n",
       " 'https://www.lazada.vn/products/sac-du-phong-30000mah-tang-cap-sac-pin-du-phong-mat-guong-thiet-ke-sang-trong-dung-luong-lon-30000mah-pin-du-phong-co-2-cong-ra-den-led-sieu-sang-mat-pin-guong-co-hien-thi-lcd-phan-tram-pin-sac-du-phong-bh-1-1-i2077063553.html',\n",
       " 'https://www.lazada.vn/products/freeship-sac-du-phong-chinh-hang-wekome-10000mah-20000mah-tich-hop-2-cong-sac-dau-ra-va-man-hinh-led-hien-thi-pin-ho-tro-sac-nhanh-21a-bao-hanh-12-thang-i1939058438.html',\n",
       " 'https://www.lazada.vn/products/hcmsac-du-phong-30000mah-tang-cap-sac-pin-du-phong-mat-guong-thiet-ke-sang-trong-dung-luong-lon-30000mah-pin-du-phong-co-2-cong-ra-den-led-sieu-sang-mat-pin-guong-co-hien-thi-lcd-phan-tram-pin-sieu-dep-i1937375115.html',\n",
       " 'https://www.lazada.vn/products/pin-sac-du-phong-chinh-hang-vivan-vpb-m10-10000mah-sac-nhanh-2-chieu-18w-quick-chare-30-2input-2output-type-c-kem-cap-type-c-bh-12-thang-1-doi-1-i867572193.html',\n",
       " 'https://www.lazada.vn/products/sac-du-phong-10000mah-5-trong-1-tich-hop-4-day-sac-1-usb-tien-dung-kem-den-pin-i1876393923.html',\n",
       " 'https://www.lazada.vn/products/pin-trau-30000mah-tang-cap-sac-nhanh-39k-pin-sac-du-phong-cao-cap-thiet-ke-man-hinh-guong-cuc-sang-trong-2-cong-sac-nhanh-den-led-sieu-sang-tam-nhin-tot-sac-du-phong-an-toan-cho-moi-dong-dien-thoai-i1902701160.html',\n",
       " 'https://www.lazada.vn/products/sac-du-phong-trong-suot-10000mah-sac-nhanh-pd20w-qc225w-fengzhi-life-loi-pin-tesla-21700-cell-man-hinh-hien-thi-pin-nho-gon-tuong-thich-iphone-oppo-xiaomi-samsung-vivo-chinh-hang-pin-du-phong-i2084257280.html',\n",
       " 'https://www.lazada.vn/products/sac-du-phong-20000mah-fengzhi-life-man-hinh-hien-thi-vo-nhom-kim-loai-cao-cap-chinh-hang-pin-du-phong-i955262917.html',\n",
       " 'https://www.lazada.vn/products/sac-du-phong-30000mah-tang-cap-sac-pin-du-phong-mat-guong-thiet-ke-sang-trong-dung-luong-lon-30000mah-pin-du-phong-co-2-cong-ra-den-led-sieu-sang-mat-pin-guong-co-hien-thi-lcd-phan-tram-pin-sieu-dep-i1059916465.html',\n",
       " 'https://www.lazada.vn/products/sac-du-phong-10000mah-fengzhi-life-man-hinh-hien-thi-pin-vo-nhom-kim-loai-cao-cap-chinh-hang-pin-du-phong-i915724355.html',\n",
       " 'https://www.lazada.vn/products/dung-luong-30000mah-tang-kem-cap-pin-sac-du-phong-thiet-ke-mat-guong-cao-cap-hien-thi-phan-tram-pin-pin-du-phong-2-cong-sac-ho-tro-sac-nhieu-thiet-bi-cung-luc-i1905546887.html',\n",
       " 'https://www.lazada.vn/products/pin-sac-du-phong-mica-trong-suot-dung-luong-20000mah-hang-chuan-bao-hanh-6-thang-skin-ngau-nhien-i2140561308.html',\n",
       " 'https://www.lazada.vn/products/pin-sieu-lon-sac-sieu-nhanh-sac-du-phong-chat-luong-cao-gk-ym177-pin-polymer-cao-cap-30000mah-3-cong-sac-dau-vao-2-cong-sac-dau-ra-ho-tro-sac-nhanh-ngan-hang-du-tru-nang-luong-lon-man-hinh-led-hien-thi-sac-net-ginka-i1487088109.html',\n",
       " 'https://www.lazada.vn/products/sac-du-phong-dung-luong-lon-10000mah-nap-day-pin-nhanh-thiet-ke-trong-suot-co-man-hinh-led-hien-thi-phan-tram-i2108924714.html',\n",
       " 'https://www.lazada.vn/products/sac-du-phong-rocoren-10000mah-pin-sac-du-phong-sac-khong-day-20w-5000mah-mini-pin-sac-du-phong-for-iphone-14-13-pro-portable-external-battery-i2077003908.html',\n",
       " 'https://www.lazada.vn/products/pin-sac-du-phong-10000mah-kem-day-sac-lightning-micro-type-c-den-pin-va-chan-usb-2-mat-juyupu-chinh-hang-cuc-sac-du-phong-i1150522445.html',\n",
       " 'https://www.lazada.vn/products/sieu-sale-sac-du-phong-samsung-10000mah-chinh-hang-pin-sac-du-phong-samsung-eb-p1100-10000mah-ho-tro-sac-nhanh-qc-20-hang-chinh-hang-i1070468922.html',\n",
       " 'https://www.lazada.vn/products/tang-kem-cap-sac-nhanh-sac-du-phong-lcd-mat-guong-co-hien-thi-30000mah-pin-du-phong-cao-cap-sac-pin-nhanh-chong-sang-chanh-dung-luong-khung-nho-gon-pin-sac-du-phong-sang-trong-2-cong-sac-dau-vao-ho-tro-sac-doi-cung-luc-i2069661347.html',\n",
       " 'https://www.lazada.vn/products/pin-du-phong-dung-luong-cao-10000mah-den-led-hien-thi-muc-pin-cuc-sac-du-phong-nho-gon-2-cong-sac-sac-2-may-cung-1-luc-chat-luong-tot-loi-pin-lipo-i2106556155.html',\n",
       " 'https://www.lazada.vn/products/sieu-hot-sac-du-phong-trong-suot-2-cong-20000mah-wekome-wk-wp-337-cong-suat-lon-225w-ho-tro-sac-cuc-nhanh-qc-30-dung-luong-20000mah-co-led-hien-thi-pin-tuong-thich-android-ios-hang-chinh-hang-bh-12-thang-i2082898956.html',\n",
       " 'https://www.lazada.vn/products/sac-du-phong-khong-day-mini-baseus-6000mah10000mah-sac-nhanh-20w-pd-pin-du-phong-khong-day-cho-dien-thoai-ip-13-iphone-12-series-i1970003093.html']"
      ]
     },
     "execution_count": 67,
     "metadata": {},
     "output_type": "execute_result"
    }
   ],
   "source": [
    "link_items = page_source.find_all(class_='_95X4G')\n",
    "link_items = ['https:' + link.find('a').get('href') for link in link_items]\n",
    "link_items"
   ]
  },
  {
   "attachments": {},
   "cell_type": "markdown",
   "metadata": {},
   "source": [
    "# Tên sản phẩm"
   ]
  },
  {
   "cell_type": "code",
   "execution_count": 62,
   "metadata": {},
   "outputs": [
    {
     "name": "stdout",
     "output_type": "stream",
     "text": [
      "40\n",
      "['Pin Sạc Dự Phòng 20.000mAh/10.000mAh, WP-163/ WP-161 CNS Pin chính hãng WK, Màn hình LED, Bảo hành 12 Tháng', 'Pin Dự Phòng Sạc Quick Charge 3.0 22,5W Pin DP Hoco 20000mAh/10000mAh CJ12A/CJ11A CNS Sạc nhanh, Bảo Hành Chính Hãng', 'Pin Sạc Dự Phòng Trong Suốt 20000mAh WP-337/10.000mAh WP-333, Tích Hợp sạc nhanh Type-C (PD 20W), Quick Charge 3.0 22,5W, CNS Bảo Hành 12 tháng', 'Pin Sạc Nhanh Dự Phòng WP-301/WP-303 Dung Lượng 10.000mAh/20.000mAh, Pin CNS Tích hợp sạc nhanh Quick Charger PD 3.0 22.5W Bảo Hành 12 tháng', 'Pin dự phòng Robot RT180 dung lượng cao 10000mah cục sạc dự phòng nhỏ gọn siêu mỏng siêu nhẹ 2 cổng sạc vào 1 cổng sạc ra chất lượng tốt lõi pin cao cấp tặng kèm cáp microusb', 'Pin dự phòng Robot RT190 RT180 RT30 RT21 RT23 RT31 dung lượng cao 10000 mAh 20000mAh 30000mAh cục sạc dự phòng nhỏ gọn 2 cổng sạc vào 1 cổng sạc ra tặng kèm cáp microusb', '[HCM]Pin Sạc Dự Phòng Chính Hãng HOCO J72(J99)-10.000mAh-HOCO J72(J99)', 'Sạc dự phòng Xiaomi Gen3 hỗ trợ sạc nhanh, pin sạc dự phòng 1000 mAh vỏ kim loại chắc chắn, sang trọng, bảo hành 1 đổi 1', 'Sạc dự phòng Samsung, pin sạc dự phòng 10000 mAh, hỗ trọ cổng sạc nhanh, sạc quick charge 2.0, 3.0. thiết kế tinh xảo, nhỏ gọn dễ dàng mang theo', '[ FREESHIP ] Pin sạc dự phòng không dây magsafe từ tính 5000mAh , lực hút mạnh sạc nhanh chuẩn PD , bảo hành 12 tháng', 'Sạc Dự Phòng Essager, Sạc Nhanh QC3.0 PD Sạc Di Động Poverbank Sạc Pin Ngoài Điện Thoại Di Động 20000mAh Sạc Dự Phòng Dành Cho Xiaomi Mi', '[DUNG LƯỢNG 36000MAH - TẶNG KÈM CÁP SẠC] SẠC DỰ PHÒNG MẶT GƯƠNG DUNG LƯỢNG KHỦNG 36000MAH - PIN SẠC DỰ PHÒNG CAO CẤP - PIN DỰ PHÒNG MẶT TRÁNG GƯƠNG, THIẾT KẾ 2 CỔNG SẠC, HỖ TRỢ SẠC NHANH NHIỀU THIẾT BỊ', '[ FREESHIP ] Sạc dự phòng chính hãng Wekome 10000mAh, 20000mAh Tích hợp 2 cổng sạc đầu ra và màn hình Led hiển thị pin , Hỗ trợ sạc nhanh 2.1A , Bảo hành 12 tháng', 'Sạc Dự Phòng Không Dây Từ Tính Magsafe 5000Mah Cục Pin Sạc Dự Phòng Nhỏ Gọn Cao Cấp Công Suất 5W Hỗ Trợ Điện Thoại Android lPhone Các Dòng Hỗ Trợ Sạc Không Dây', '[ SIÊU HOT ] Sạc Dự Phòng Trong Suốt 2 Cổng 20.000mAh Wekome WK WP 337 , Công Suất Lớn 22.5w , Hỗ Trợ Sạc Cực Nhanh QC 3.0 Dung Lượng 20000mAh Có LED Hiển Thị % Pin, Tương Thích Android Ios , Hàng Chính Hãng . BH 12 THÁNG', 'Pin sạc dự phòng HXSJ-20000mAh Hỗ trợ sạc nhanh 2.1A, bao gồm bốn cáp sạc bốn giao diện micro usb / type-c / lightning / USB A Tương thích với 99% thiết bị điện tử 9 cơ chế bảo vệ quá nhiệt Đen xanh đỏ,Bảo hành 6 tháng', 'Pin Sạc Dự Phòng Xịn,Giá Rẻ - Pin Sạc Dự Phòng Trong Suốt Wekome 337 – Dung Lượng 10000 - 20000mah,Công Nghệ QC3.0 22.5w Sạc Nhanh,Đầu Ra 2 Cổng,Màn Hình Led Hiển Thị Nguồn,Chip Xử Lý Thông Minh,An Toàn Khi Sạc.', 'Baseus Pin sạc dự phòng siêu nhanh Baseus Adaman 22.5W Metal Digital Display Quick Charge Power Bank', '( MẪU MỚI 2023 ) Sạc Dự Phòng Chính Hãng , Sạc Dự Phòng Trong Suốt Wekome WK WP 337 Dung Lượng Pin Siêu Khủng Tới 20.000mah Hỗ Trợ Sạc Siêu Nhanh Lên Đến 22,5W ,Có LED Hiển Thị %, Tương Thích Với Hầu Hết Các Dòng Điện Thoại', '[SẠC DỰ PHÒNG 30000MAH - TẶNG CÁP SẠC] PIN DỰ PHÒNG MẶT GƯƠNG THIẾT KẾ SANG TRỌNG DUNG LƯỢNG LỚN 30000MAH - PIN DỰ PHÒNG CÓ 2 CỔNG RA ĐÈN LED SIÊU SÁNG, MẶT PIN GƯƠNG CÓ HIỂN THỊ LCD PHẦN TRĂM PIN  - SẠC DỰ PHÒNG [BH 1-1]', '[ FREESHIP ] Sạc dự phòng chính hãng Wekome 10000mAh, 20000mAh Tích hợp 2 cổng sạc đầu ra và màn hình Led hiển thị pin  Hỗ trợ sạc nhanh 2.1A  Bảo hành 12 tháng', '[HCM][SẠC DỰ PHÒNG 30000mAH - TẶNG CÁP SẠC] PIN DỰ PHÒNG MẶT GƯƠNG THIẾT KẾ SANG TRỌNG DUNG LƯỢNG LỚN 30000MAH - PIN DỰ PHÒNG CÓ 2 CỔNG RA ĐÈN LED SIÊU SÁNG - MẶT PIN GƯƠNG CÓ HIỂN THỊ LCD PHẦN TRĂM PIN SIÊU ĐẸP', 'Pin Sạc Dự Phòng Chính Hãng VIVAN VPB-M10 10000mAh Sạc Nhanh 2 chiều 18W Quick Chare 3.0  2Input 2Output Type C  Kèm Cáp Type-C  BH 12 THÁNG 1 ĐỔI 1', 'Sạc Dự Phòng 10000mAh 5 trong 1 tích hợp 4 dây sạc, 1 usb, tiện dụng kèm đèn pin', '[PIN TRÂU 30000MAH] - TẶNG CÁP SẠC NHANH 39K - PIN SẠC DỰ PHÒNG CAO CẤP THIẾT KẾ MÀN HÌNH GƯƠNG CỰC SANG TRỌNG - 2 CỔNG SẠC NHANH + ĐÈN LED SIÊU SÁNG TẦM NHÌN TỐT - SẠC DỰ PHÒNG AN TOÀN CHO MỌI DÒNG ĐIỆN THOẠI', 'Sạc dự phòng trong suốt 10000mah sạc nhanh PD20W QC22.5W FENGZHI LIFE lõi pin Tesla 21700 Cell màn hình hiển thị pin nhỏ gọn tương thích Iphone Oppo XiaoMi SamSung ViVo chính hãng pin dự phòng', 'Sạc dự phòng 20000mah FENGZHI LIFE màn hình hiển thị võ nhôm kim loại cao cấp chính hãng pin dự phòng', '[SẠC DỰ PHÒNG 30.000maH - TẶNG CÁP SẠC] PIN DỰ PHÒNG MẶT GƯƠNG THIẾT KẾ SANG TRỌNG DUNG LƯỢNG LỚN 30000MAH - PIN DỰ PHÒNG CÓ 2 CỔNG RA ĐÈN LED SIÊU SÁNG - MẶT PIN GƯƠNG CÓ HIỂN THỊ LCD PHẦN TRĂM PIN SIÊU ĐẸP', 'Sạc dự phòng 10000mAh FENGZHI LIFE màn hình hiển thị pin võ nhôm kim loại cao cấp chính hàng pin dự phòng', '(DUNG LƯỢNG 30000MAH -TẶNG KÈM CÁP) -PIN SẠC DỰ PHÒNG THIẾT KẾ MẶT GƯƠNG CAO CẤP HIỂN THỊ PHẦN TRĂM PIN - PIN DỰ PHÒNG 2 CỔNG SẠC HỖ TRỢ SẠC NHIỀU THIẾT BỊ CÙNG LÚC', 'Pin Sạc Dự Phòng Mica Trong Suốt Dung Lượng 20.000Mah Hàng chuẩn bảo hành 6 tháng ( Skin ngẫu nhiên)', '[PIN SIÊU LỚN - SẠC SIÊU NHANH] Sạc Dự Phòng chất lượng cao GK-YM177 PIN Polymer cao cấp 30000mAh, 3 cổng sạc đầu vào, 2 cổng sạc đầu ra, hỗ trợ sạc nhanh, ngân hàng dự trữ năng lượng lớn, màn hình LED hiển thị sắc nét [GINKA]', 'Sạc Dự Phòng dung lượng lớn 10000mah,  nạp đầy pin nhanh , thiết kế trong suốt , có màn hình led hiển thị phần trăm', 'sạc dư phòng Rocoren 10000mAh Pin Sạc Dự Phòng Sạc Không Dây 20W 5000mAh Mini pin sạc dự phòng For iPhone 14 13 Pro Portable External Battery', 'Pin sạc dự phòng 10000mah kèm dây sạc Lightning Micro Type C đèn pin và chân USB 2 mặt JUYUPU chính hãng cục sạc dự phòng', '(SIÊU SALE) Sạc Dự Phòng Samsung 10.000mAh Chính Hãng - Pin Sạc Dự Phòng Samsung EB-P1100 10000mAh Hỗ Trợ Sạc Nhanh QC 2.0 - Hàng Chính Hãng', '[TẶNG KÈM CÁP SẠC NHANH] SẠC DỰ PHÒNG LCD MẶT GƯƠNG CÓ HIỂN THỊ 30000MAH - PIN DỰ PHÒNG CAO CẤP SẠC PIN NHANH CHÓNG SANG CHẢNH DUNG LƯỢNG KHỦNG NHỎ GỌN - PIN SẠC DỰ PHÒNG SANG TRỌNG, 2 CỔNG SẠC ĐẦU VÀO, HỖ TRỢ SẠC ĐÔI CÙNG LÚC', 'Pin dự phòng  dung lượng cao 10000mah đèn led hiển thị mức pin cục sạc dự phòng nhỏ gọn 2 cổng sạc (sạc 2 máy cùng 1 lúc)  chất lượng tốt lõi pin lipo.', '[ SIÊU HOT ] Sạc Dự Phòng Trong Suốt 2 Cổng 20.000mAh Wekome WK WP 337 , Công Suất Lớn 22.5w , Hỗ Trợ Sạc Cực Nhanh QC 3.0 Dung Lượng 20000mAh Có LED Hiển Thị % Pin, Tương Thích Android Ios , Hàng Chính Hãng . BH 12 THÁNG', 'Sạc Dự Phòng Không Dây mini Baseus 6000mAh/10000mAh sạc nhanh 20W PD Pin dự phòng không dây cho điện thoại ip 13 iphone 12 series']\n"
     ]
    }
   ],
   "source": [
    "name_items = page_source.find_all(class_='RfADt')\n",
    "name_items = [name.text for name in name_items]\n",
    "print(len(name_items))\n",
    "print(name_items)"
   ]
  },
  {
   "attachments": {},
   "cell_type": "markdown",
   "metadata": {},
   "source": [
    "# Giá sản phẩm"
   ]
  },
  {
   "cell_type": "code",
   "execution_count": 63,
   "metadata": {},
   "outputs": [
    {
     "name": "stdout",
     "output_type": "stream",
     "text": [
      "40\n",
      "['149.185 ₫', '331.618 ₫', '292.011 ₫', '254.894 ₫', '159.000 ₫', '159.000 ₫', '139.000 ₫', '248.000 ₫', '219.000 ₫', '350.000 ₫', '399.000 ₫', '76.500 ₫', '245.000 ₫', '251.155 ₫', '375.586 ₫', '144.000 ₫', '359.179 ₫', '430.000 ₫', '379.000 ₫', '69.200 ₫', '245.000 ₫', '79.000 ₫', '249.000 ₫', '195.000 ₫', '78.600 ₫', '321.698 ₫', '389.000 ₫', '70.000 ₫', '232.737 ₫', '70.000 ₫', '539.000 ₫', '179.000 ₫', '318.133 ₫', '309.000 ₫', '255.576 ₫', '215.331 ₫', '87.000 ₫', '188.119 ₫', '399.000 ₫', '538.800 ₫']\n"
     ]
    }
   ],
   "source": [
    "price_items = page_source.find_all(class_='ooOxS')\n",
    "price_items = [price.text for price in price_items]\n",
    "print(len(price_items))\n",
    "print(price_items)"
   ]
  },
  {
   "attachments": {},
   "cell_type": "markdown",
   "metadata": {},
   "source": [
    "# Số lượng đã bán"
   ]
  },
  {
   "cell_type": "code",
   "execution_count": 64,
   "metadata": {},
   "outputs": [
    {
     "name": "stdout",
     "output_type": "stream",
     "text": [
      "40\n",
      "['680', '664', '679', '669', '9,999+', '9,999+', '899', '467', '457', '1,928', '6,092', '380', '4,905', '1,054', '170', '140', '136', '288', '398', '469', '3,355', '357', '4,086', '1,491', '2,495', '323', '8,964', '1,624', '5,070', '1,881', '78', '2,896', '1,512', '213', '749', '1,546', '486', '276', '306', '131']\n"
     ]
    }
   ],
   "source": [
    "sold_items = page_source.find_all(class_='_1cEkb')\n",
    "sold_items = [sold.text.split()[0] for sold in sold_items]\n",
    "print(len(sold_items))\n",
    "print(sold_items)"
   ]
  },
  {
   "cell_type": "code",
   "execution_count": 69,
   "metadata": {},
   "outputs": [],
   "source": [
    "for i in [0]:\n",
    "    driver.get(link_items[0])\n",
    "    page_source = BeautifulSoup(driver.page_source, 'html.parser')\n",
    "    comments, number_page = [], 3\n",
    "    while True:\n",
    "        cmts = page_source.find_all(class_='content')\n",
    "    "
   ]
  },
  {
   "cell_type": "code",
   "execution_count": 116,
   "metadata": {},
   "outputs": [],
   "source": [
    "driver.get(link_items[0])\n",
    "page_source = BeautifulSoup(driver.page_source, 'html.parser')"
   ]
  },
  {
   "cell_type": "code",
   "execution_count": 121,
   "metadata": {},
   "outputs": [
    {
     "data": {
      "text/plain": [
       "['Hàng ok nha cả nhà. Đóng gói cẩn thận. Giao hàng nhanh. Săn sale giá rất tốt. Sẽ ủng hộ shop tiếp',\n",
       " 'Tôi đã nhận được hàng nhanh, san phẩm dung cũng OK, khuông b đi cạm đi',\n",
       " 'hàng giao nhanh trộm vía đẹp quá trời còn sử dụng được lâu không thì chưa biết nhưng cách đóng gói và hàng bên trong ưng lắm luôn',\n",
       " 'Giao hàng nhanh, sản phẩm được đóng gói rất kỹ, nhiều lớp bảo vệ.\\nHàng mở ra còn nguyên vẹn. Sạc pin dùng rất tốt. ủng hộ shop 5 sao',\n",
       " 'Giao hàng siêu nhanh. Đặt hàng hôm trước hôm sau nhận hàng liền. Shipper cũng nhiệt tình nữa. Ố dề luôn. Cục sạc cũng gọn nhẹ, bỏ túi cũng tiện, có tặng cáp sạc nữa']"
      ]
     },
     "execution_count": 121,
     "metadata": {},
     "output_type": "execute_result"
    }
   ],
   "source": [
    "page_source = BeautifulSoup(driver.page_source, 'html.parser')\n",
    "cmts = page_source.find_all(class_='item-content')\n",
    "cmts = [cmt.find(class_='content').text for cmt in cmts]\n",
    "cmts"
   ]
  },
  {
   "cell_type": "code",
   "execution_count": 118,
   "metadata": {},
   "outputs": [],
   "source": [
    "driver.execute_script(\"window.scrollTo(0, 1400);\")\n",
    "time.sleep(3)"
   ]
  },
  {
   "cell_type": "code",
   "execution_count": 120,
   "metadata": {},
   "outputs": [],
   "source": [
    "next_button = driver.find_element(By.XPATH, '//*[@id=\"module_product_review\"]/div/div/div[3]/div[2]/div/button[2]')\n",
    "next_button.click()"
   ]
  },
  {
   "cell_type": "code",
   "execution_count": null,
   "metadata": {},
   "outputs": [],
   "source": []
  }
 ],
 "metadata": {
  "kernelspec": {
   "display_name": "selenium",
   "language": "python",
   "name": "python3"
  },
  "language_info": {
   "codemirror_mode": {
    "name": "ipython",
    "version": 3
   },
   "file_extension": ".py",
   "mimetype": "text/x-python",
   "name": "python",
   "nbconvert_exporter": "python",
   "pygments_lexer": "ipython3",
   "version": "3.11.0"
  },
  "orig_nbformat": 4
 },
 "nbformat": 4,
 "nbformat_minor": 2
}
